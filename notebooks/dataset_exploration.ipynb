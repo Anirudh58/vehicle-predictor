{
 "cells": [
  {
   "cell_type": "code",
   "execution_count": null,
   "id": "c2961c88-3434-418f-b26e-e2f05b40fb17",
   "metadata": {},
   "outputs": [],
   "source": [
    "%load_ext autoreload\n",
    "%autoreload 2\n",
    "\n",
    "import os\n",
    "import sys\n",
    "\n",
    "from collections import Counter\n",
    "import matplotlib.pyplot as plt\n",
    "import numpy as np\n",
    "import pandas as pd\n",
    "import pickle\n",
    "\n",
    "sys.path.append('./../')\n",
    "from src.dataset import VehiclePredictorDataset\n",
    "from src.utils import plot_images"
   ]
  },
  {
   "cell_type": "markdown",
   "id": "f0985f1f-5b4c-469f-a868-258e150adcbc",
   "metadata": {},
   "source": [
    "## Config variables (can be moved to yml later)"
   ]
  },
  {
   "cell_type": "code",
   "execution_count": null,
   "id": "7ab62785-3560-4df6-8d06-5adadd59fae1",
   "metadata": {},
   "outputs": [],
   "source": [
    "root_path = './../'\n",
    "data_path = os.path.join(root_path, 'data')\n",
    "dataset_path = os.path.join(data_path, 'VMMRdb')\n",
    "with open(os.path.join(data_path, 'make_model_most_common_100.pkl'), 'rb') as f:\n",
    "    target_make_model_labels = pickle.load(f)"
   ]
  },
  {
   "cell_type": "markdown",
   "id": "f8c75708-60e3-45d2-baab-1a85ab37a1d5",
   "metadata": {},
   "source": [
    "## Init the Dataset"
   ]
  },
  {
   "cell_type": "code",
   "execution_count": null,
   "id": "e16a597f-c35b-439f-8475-6a6147dd50e2",
   "metadata": {},
   "outputs": [],
   "source": [
    "vp_dataset = VehiclePredictorDataset(root_dir=dataset_path)\n",
    "num_images = len(vp_dataset)\n",
    "print(f\"num_images: {num_images}\")"
   ]
  },
  {
   "cell_type": "markdown",
   "id": "5940cb93-e1ff-4efb-9601-b04c20b119da",
   "metadata": {},
   "source": [
    "## Plot a few example images"
   ]
  },
  {
   "cell_type": "code",
   "execution_count": null,
   "id": "88542ada-46cc-4ca5-b7a8-881b30490307",
   "metadata": {},
   "outputs": [],
   "source": [
    "num_samples = 20\n",
    "np.random.seed(42)\n",
    "indices = np.random.choice(num_images, num_samples)\n",
    "images = [vp_dataset[i][0] for i in indices]\n",
    "targets = [vp_dataset[i][1] for i in indices]\n",
    "titles = [f\"make: {vp_dataset.idx_to_make[target['make']]}\\nmodel: {vp_dataset.idx_to_model[target['model']]}\\nyear: {vp_dataset.idx_to_year[target['year']]}\" for target in targets]\n",
    "plot_images(images, titles)"
   ]
  },
  {
   "cell_type": "code",
   "execution_count": null,
   "id": "5bcca19f-dfd0-4003-ae10-4563b260edcc",
   "metadata": {},
   "outputs": [],
   "source": [
    "make_counts = Counter(vp_dataset.make_counts)\n",
    "make_model_counts = Counter(vp_dataset.make_model_counts)\n",
    "make_model_year_counts = Counter(vp_dataset.make_model_year_counts)\n",
    "year_counts = Counter(vp_dataset.year_counts)"
   ]
  },
  {
   "cell_type": "markdown",
   "id": "69098d19-d8e1-4095-a986-e17a3bf307d9",
   "metadata": {},
   "source": [
    "### Dumping target labels for later use"
   ]
  },
  {
   "cell_type": "code",
   "execution_count": null,
   "id": "bf14a773-14c7-4942-9f64-9082ae8170cf",
   "metadata": {},
   "outputs": [],
   "source": [
    "make_model_most_common_100 = [make_model[0] for make_model in make_model_counts.most_common(100)]\n",
    "make_model_most_common_200 = [make_model[0] for make_model in make_model_counts.most_common(200)]\n",
    "make_model_most_common_300 = [make_model[0] for make_model in make_model_counts.most_common(300)]\n",
    "\n",
    "with open(os.path.join(data_path, 'make_model_most_common_100.pkl'), 'wb') as f_100:\n",
    "    pickle.dump(make_model_most_common_100, f_100)\n",
    "    \n",
    "with open(os.path.join(data_path, 'make_model_most_common_200.pkl'), 'wb') as f_200:\n",
    "    pickle.dump(make_model_most_common_200, f_200)\n",
    "    \n",
    "with open(os.path.join(data_path, 'make_model_most_common_300.pkl'), 'wb') as f_300:\n",
    "    pickle.dump(make_model_most_common_300, f_300)"
   ]
  },
  {
   "cell_type": "markdown",
   "id": "2b2d5ff9-b6ed-420b-8348-4c0aa038581f",
   "metadata": {},
   "source": [
    "## Exploratory Data Analysis"
   ]
  },
  {
   "cell_type": "code",
   "execution_count": null,
   "id": "1ab022e0-4bec-411a-8464-23dd9d410dde",
   "metadata": {},
   "outputs": [],
   "source": [
    "vp_dataset"
   ]
  },
  {
   "cell_type": "code",
   "execution_count": null,
   "id": "1113d4b5-0fe3-4c2c-bbeb-4e3661812034",
   "metadata": {},
   "outputs": [],
   "source": []
  }
 ],
 "metadata": {
  "kernelspec": {
   "display_name": "Python 3",
   "language": "python",
   "name": "python3"
  },
  "language_info": {
   "codemirror_mode": {
    "name": "ipython",
    "version": 3
   },
   "file_extension": ".py",
   "mimetype": "text/x-python",
   "name": "python",
   "nbconvert_exporter": "python",
   "pygments_lexer": "ipython3",
   "version": "3.9.13"
  }
 },
 "nbformat": 4,
 "nbformat_minor": 5
}
