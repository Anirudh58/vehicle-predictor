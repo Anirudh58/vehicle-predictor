{
 "cells": [
  {
   "cell_type": "code",
   "execution_count": 11,
   "id": "b51a8f78-b4ed-433a-b4d9-3d00426e1155",
   "metadata": {},
   "outputs": [
    {
     "name": "stdout",
     "output_type": "stream",
     "text": [
      "The autoreload extension is already loaded. To reload it, use:\n",
      "  %reload_ext autoreload\n"
     ]
    }
   ],
   "source": [
    "%load_ext autoreload\n",
    "%autoreload 2\n",
    "\n",
    "import copy\n",
    "import os\n",
    "import sys\n",
    "import time\n",
    "from tqdm import tqdm\n",
    "\n",
    "import matplotlib.pyplot as plt\n",
    "import seaborn as sns\n",
    "import numpy as np\n",
    "import pandas as pd\n",
    "import pickle\n",
    "import sklearn\n",
    "\n",
    "import torch\n",
    "\n",
    "torch.manual_seed(0)\n",
    "\n",
    "import torchvision\n",
    "from torchvision import transforms\n",
    "import torch.nn as nn\n",
    "\n",
    "sys.path.append('./../')\n",
    "from src.dataset import VehiclePredictorDataset\n",
    "from src.utils import train_model, evaluate_model, get_model, visualize_model\n",
    "#from src.bilinear import BCNN"
   ]
  },
  {
   "cell_type": "markdown",
   "id": "2c08438f-2b23-4dd4-864a-59fc0ebc7dea",
   "metadata": {},
   "source": [
    "## GPU Check"
   ]
  },
  {
   "cell_type": "code",
   "execution_count": 12,
   "id": "1c450427-87df-46ab-bdf1-3acf59608996",
   "metadata": {},
   "outputs": [
    {
     "name": "stdout",
     "output_type": "stream",
     "text": [
      "cuda:0\n"
     ]
    }
   ],
   "source": [
    "device = torch.device('cuda:0' if torch.cuda.is_available() else 'cpu')\n",
    "print(device)"
   ]
  },
  {
   "cell_type": "markdown",
   "id": "4d61d102-0487-4aad-8af7-ac99ceca3aa7",
   "metadata": {},
   "source": [
    "## Config Variables"
   ]
  },
  {
   "cell_type": "code",
   "execution_count": 13,
   "id": "52dff7a1-72d7-444b-9611-4ada42092331",
   "metadata": {},
   "outputs": [
    {
     "name": "stdout",
     "output_type": "stream",
     "text": [
      "num_images: 38098\n",
      "num_labels: 100\n"
     ]
    }
   ],
   "source": [
    "root_path = './../'\n",
    "data_path = os.path.join(root_path, 'data')\n",
    "dataset_path = os.path.join(data_path, 'VMMRdb')\n",
    "\n",
    "# modify this line if you want to train a model on top 100/top 200/top 300 most common make_models\n",
    "with open(os.path.join(data_path, 'make_model_year_most_common_100.pkl'), 'rb') as f:\n",
    "    target_make_model_year_labels = pickle.load(f)\n",
    "\n",
    "# load the dataset for some stats\n",
    "vp_dataset = VehiclePredictorDataset(root_dir=dataset_path, target_make_model_year_labels=target_make_model_year_labels)\n",
    "num_images = len(vp_dataset)\n",
    "num_labels = len(vp_dataset.make_model_year_counts)\n",
    "class_distribution = vp_dataset.make_model_year_counts\n",
    "print(f\"num_images: {num_images}\")\n",
    "print(f\"num_labels: {num_labels}\")"
   ]
  },
  {
   "cell_type": "markdown",
   "id": "2ac3f280-07f2-4e7b-8126-aefe5e82c0bf",
   "metadata": {},
   "source": [
    "## Define the transforms\n",
    "- Add other transforms here later, if needed. \n",
    "- Do we need any specific transforms for train and val?"
   ]
  },
  {
   "cell_type": "code",
   "execution_count": 14,
   "id": "95c0f001-93b7-46f7-80a5-48f7d15eb4d4",
   "metadata": {},
   "outputs": [],
   "source": [
    "def get_transform():\n",
    "    \n",
    "    transform = transforms.Compose([\n",
    "        #transforms.Resize((224, 224)),\n",
    "        #transforms.Resize((448, 448)),\n",
    "        \n",
    "        torchvision.transforms.Resize(size=224),\n",
    "        transforms.RandomHorizontalFlip(),\n",
    "        #random affine transformation\n",
    "        torchvision.transforms.CenterCrop(size=224),\n",
    "        \n",
    "        transforms.ToTensor(),\n",
    "        transforms.Normalize(mean=[0.485, 0.456, 0.406], std=[0.229, 0.224, 0.225])\n",
    "    ])\n",
    "    \n",
    "    return transform"
   ]
  },
  {
   "cell_type": "markdown",
   "id": "5d4e66e4-8b06-4247-88be-780925b37760",
   "metadata": {},
   "source": [
    "## Instantiate the train, val and test dataloaders"
   ]
  },
  {
   "cell_type": "code",
   "execution_count": 15,
   "id": "36818fe0-473f-4210-847e-fc05acea41f3",
   "metadata": {
    "scrolled": false
   },
   "outputs": [
    {
     "name": "stdout",
     "output_type": "stream",
     "text": [
      "train: 0 to 30478\n",
      "val: 30478 to 34287\n",
      "test: 34287 to 38097\n",
      "dataset_sizes : {'train': 30478, 'val': 3809, 'test': 3809}\n"
     ]
    }
   ],
   "source": [
    "train_split_ratio = 0.8\n",
    "val_split_ratio = 0.1\n",
    "test_split_ration = 0.1\n",
    "\n",
    "# later see if you can have train-specific transforms\n",
    "dataset = VehiclePredictorDataset(root_dir=dataset_path, target_make_model_year_labels=target_make_model_year_labels, transform=get_transform())\n",
    "\n",
    "# split dataset in train and val set\n",
    "dataset_len = len(dataset)\n",
    "indices = torch.randperm(dataset_len).tolist()\n",
    "train_split_index = int(train_split_ratio * dataset_len)\n",
    "val_split_index = train_split_index + int(val_split_ratio * dataset_len)\n",
    "train_dataset = torch.utils.data.Subset(dataset, indices[0:train_split_index])\n",
    "val_dataset = torch.utils.data.Subset(dataset, indices[train_split_index:val_split_index])\n",
    "test_dataset = torch.utils.data.Subset(dataset, indices[val_split_index:])\n",
    "\n",
    "set_num_workers = 8;\n",
    "batch_size = 64\n",
    "\n",
    "# define the dataloaders\n",
    "dataloader_train = torch.utils.data.DataLoader(\n",
    "    train_dataset,\n",
    "    batch_size=batch_size,\n",
    "    shuffle=True,\n",
    "    num_workers=set_num_workers,\n",
    ")\n",
    "\n",
    "dataloader_val = torch.utils.data.DataLoader(\n",
    "    val_dataset,\n",
    "    batch_size=batch_size,\n",
    "    shuffle=False,\n",
    "    num_workers=set_num_workers,\n",
    ")\n",
    "\n",
    "dataloader_test = torch.utils.data.DataLoader(\n",
    "    test_dataset,\n",
    "    batch_size=1,\n",
    "    shuffle=True,\n",
    "    num_workers=set_num_workers,\n",
    ")\n",
    "\n",
    "dataset_sizes = {\n",
    "    'train': len(train_dataset),\n",
    "    'val': len(val_dataset),\n",
    "    'test': len(val_dataset)\n",
    "}\n",
    "\n",
    "print(f'train: 0 to {train_split_index}\\nval: {train_split_index} to {val_split_index}\\ntest: {val_split_index} to {dataset_len-1}')\n",
    "print(f'dataset_sizes : {dataset_sizes}')"
   ]
  },
  {
   "cell_type": "markdown",
   "id": "a5d6173b-8610-4afe-990c-3b7d4d6172f4",
   "metadata": {
    "tags": []
   },
   "source": [
    "## Model config"
   ]
  },
  {
   "cell_type": "code",
   "execution_count": 19,
   "id": "d6737130-151b-49ae-8577-b152e1d0776a",
   "metadata": {},
   "outputs": [
    {
     "name": "stdout",
     "output_type": "stream",
     "text": [
      "model_name: bilinear_vgg16_ft_100classes_30epochs_makemodelyear.pth\n"
     ]
    }
   ],
   "source": [
    "# check https://pytorch.org/vision/0.8/models.html to experiment with other backbone model\n",
    "backbone_model = 'bilinear_vgg16_ft'\n",
    "num_epochs = 30\n",
    "lr = 0.01\n",
    "\n",
    "# get the model\n",
    "model = get_model(num_labels, backbone_model).to(device)\n",
    "model_name = 'bilinear_vgg16_ft_100classes_25epochs_makemodelyear_acc_0.628.pth'\n",
    "model.load_state_dict(torch.load(os.path.join(root_path, 'models', model_name)))\n",
    "\n",
    "# the reason for computing weights is to account for the class imbalance\n",
    "weight_distribution = 1 / torch.tensor(list(class_distribution.values()))\n",
    "weight_distribution = weight_distribution / weight_distribution.sum()\n",
    "weight_distribution = weight_distribution.to(device)\n",
    "\n",
    "# define the loss function\n",
    "criterion = nn.CrossEntropyLoss(weight=weight_distribution)\n",
    "\n",
    "# define the optimizer\n",
    "optimizer = torch.optim.SGD(model.parameters(), lr, momentum=0.9, weight_decay = 1e-4)\n",
    "\n",
    "# define the scheduler\n",
    "#exp_lr_scheduler = torch.optim.lr_scheduler.StepLR(optimizer, step_size=100, gamma=0.8)\n",
    "exp_lr_scheduler = torch.optim.lr_scheduler.ReduceLROnPlateau(optimizer, mode='max', factor=0.1, patience=3, verbose=True)\n",
    "\n",
    "target_labels = 'makemodelyear'\n",
    "model_info = {\n",
    "    'backbone': backbone_model,\n",
    "    'num_classes': f\"{num_labels}classes\",\n",
    "    'num_epochs': f\"{num_epochs}epochs\",\n",
    "    'labels': target_labels\n",
    "}\n",
    "model_name = \"_\".join([model_info[key] for key in model_info]) + \".pth\"\n",
    "print(f\"model_name: {model_name}\")"
   ]
  },
  {
   "cell_type": "markdown",
   "id": "4515b8b5-07a4-4837-9f76-58dbd31ede24",
   "metadata": {},
   "source": [
    "## Train\n",
    "- Uncomment this line if you want to train again. \n",
    "- The trained models are all stored in this [drive folder]( https://drive.google.com/drive/folders/1RXaKgStTFnVRaLvk-eIHEGhwvQp-y1-c?usp=sharing)"
   ]
  },
  {
   "cell_type": "code",
   "execution_count": 20,
   "id": "a1e5f1f5-effe-4e5a-b099-07457edd2857",
   "metadata": {
    "scrolled": false,
    "tags": []
   },
   "outputs": [
    {
     "name": "stdout",
     "output_type": "stream",
     "text": [
      "Epoch 0/29\n",
      "----------\n"
     ]
    },
    {
     "name": "stderr",
     "output_type": "stream",
     "text": [
      "100%|█████████████████████████████████████████████████████████████████████████████████████████████| 477/477 [02:10<00:00,  3.66it/s]\n"
     ]
    },
    {
     "name": "stdout",
     "output_type": "stream",
     "text": [
      "train Loss: 0.0340 Acc: 0.9985 Time: 2m 10s\n"
     ]
    },
    {
     "name": "stderr",
     "output_type": "stream",
     "text": [
      "100%|███████████████████████████████████████████████████████████████████████████████████████████████| 60/60 [00:07<00:00,  8.01it/s]\n"
     ]
    },
    {
     "name": "stdout",
     "output_type": "stream",
     "text": [
      "val Loss: 1.0143 Acc: 0.6188 Time: 2m 18s\n",
      "learning rate: 0.01\n",
      "Epoch 1/29\n",
      "----------\n"
     ]
    },
    {
     "name": "stderr",
     "output_type": "stream",
     "text": [
      "100%|█████████████████████████████████████████████████████████████████████████████████████████████| 477/477 [02:10<00:00,  3.66it/s]\n"
     ]
    },
    {
     "name": "stdout",
     "output_type": "stream",
     "text": [
      "train Loss: 0.0325 Acc: 0.9983 Time: 4m 28s\n"
     ]
    },
    {
     "name": "stderr",
     "output_type": "stream",
     "text": [
      "100%|███████████████████████████████████████████████████████████████████████████████████████████████| 60/60 [00:07<00:00,  8.00it/s]\n"
     ]
    },
    {
     "name": "stdout",
     "output_type": "stream",
     "text": [
      "val Loss: 1.0124 Acc: 0.6272 Time: 5m 35s\n",
      "learning rate: 0.01\n",
      "Epoch 2/29\n",
      "----------\n"
     ]
    },
    {
     "name": "stderr",
     "output_type": "stream",
     "text": [
      "100%|█████████████████████████████████████████████████████████████████████████████████████████████| 477/477 [02:10<00:00,  3.66it/s]\n"
     ]
    },
    {
     "name": "stdout",
     "output_type": "stream",
     "text": [
      "train Loss: 0.0304 Acc: 0.9985 Time: 7m 46s\n"
     ]
    },
    {
     "name": "stderr",
     "output_type": "stream",
     "text": [
      "100%|███████████████████████████████████████████████████████████████████████████████████████████████| 60/60 [00:07<00:00,  8.10it/s]\n"
     ]
    },
    {
     "name": "stdout",
     "output_type": "stream",
     "text": [
      "val Loss: 1.0092 Acc: 0.6246 Time: 7m 53s\n",
      "learning rate: 0.01\n",
      "Epoch 3/29\n",
      "----------\n"
     ]
    },
    {
     "name": "stderr",
     "output_type": "stream",
     "text": [
      "100%|█████████████████████████████████████████████████████████████████████████████████████████████| 477/477 [02:10<00:00,  3.66it/s]\n"
     ]
    },
    {
     "name": "stdout",
     "output_type": "stream",
     "text": [
      "train Loss: 0.0303 Acc: 0.9984 Time: 9m 3s\n"
     ]
    },
    {
     "name": "stderr",
     "output_type": "stream",
     "text": [
      "100%|███████████████████████████████████████████████████████████████████████████████████████████████| 60/60 [00:07<00:00,  8.01it/s]\n"
     ]
    },
    {
     "name": "stdout",
     "output_type": "stream",
     "text": [
      "val Loss: 1.0155 Acc: 0.6277 Time: 9m 11s\n",
      "learning rate: 0.01\n",
      "Epoch 4/29\n",
      "----------\n"
     ]
    },
    {
     "name": "stderr",
     "output_type": "stream",
     "text": [
      "100%|█████████████████████████████████████████████████████████████████████████████████████████████| 477/477 [02:10<00:00,  3.66it/s]\n"
     ]
    },
    {
     "name": "stdout",
     "output_type": "stream",
     "text": [
      "train Loss: 0.0279 Acc: 0.9983 Time: 11m 21s\n"
     ]
    },
    {
     "name": "stderr",
     "output_type": "stream",
     "text": [
      "100%|███████████████████████████████████████████████████████████████████████████████████████████████| 60/60 [00:07<00:00,  8.10it/s]\n"
     ]
    },
    {
     "name": "stdout",
     "output_type": "stream",
     "text": [
      "val Loss: 1.0180 Acc: 0.6233 Time: 11m 28s\n",
      "learning rate: 0.01\n",
      "Epoch 5/29\n",
      "----------\n"
     ]
    },
    {
     "name": "stderr",
     "output_type": "stream",
     "text": [
      "100%|█████████████████████████████████████████████████████████████████████████████████████████████| 477/477 [02:10<00:00,  3.66it/s]\n"
     ]
    },
    {
     "name": "stdout",
     "output_type": "stream",
     "text": [
      "train Loss: 0.0262 Acc: 0.9986 Time: 14m 39s\n"
     ]
    },
    {
     "name": "stderr",
     "output_type": "stream",
     "text": [
      "100%|███████████████████████████████████████████████████████████████████████████████████████████████| 60/60 [00:07<00:00,  7.52it/s]\n"
     ]
    },
    {
     "name": "stdout",
     "output_type": "stream",
     "text": [
      "val Loss: 1.0223 Acc: 0.6264 Time: 14m 47s\n",
      "learning rate: 0.01\n",
      "Epoch 6/29\n",
      "----------\n"
     ]
    },
    {
     "name": "stderr",
     "output_type": "stream",
     "text": [
      "100%|█████████████████████████████████████████████████████████████████████████████████████████████| 477/477 [02:10<00:00,  3.66it/s]\n"
     ]
    },
    {
     "name": "stdout",
     "output_type": "stream",
     "text": [
      "train Loss: 0.0254 Acc: 0.9987 Time: 16m 57s\n"
     ]
    },
    {
     "name": "stderr",
     "output_type": "stream",
     "text": [
      "100%|███████████████████████████████████████████████████████████████████████████████████████████████| 60/60 [00:07<00:00,  8.04it/s]\n"
     ]
    },
    {
     "name": "stdout",
     "output_type": "stream",
     "text": [
      "val Loss: 1.0298 Acc: 0.6198 Time: 16m 5s\n",
      "learning rate: 0.01\n",
      "Epoch 7/29\n",
      "----------\n"
     ]
    },
    {
     "name": "stderr",
     "output_type": "stream",
     "text": [
      "100%|█████████████████████████████████████████████████████████████████████████████████████████████| 477/477 [02:10<00:00,  3.66it/s]\n"
     ]
    },
    {
     "name": "stdout",
     "output_type": "stream",
     "text": [
      "train Loss: 0.0248 Acc: 0.9987 Time: 18m 15s\n"
     ]
    },
    {
     "name": "stderr",
     "output_type": "stream",
     "text": [
      "100%|███████████████████████████████████████████████████████████████████████████████████████████████| 60/60 [00:07<00:00,  8.16it/s]\n"
     ]
    },
    {
     "name": "stdout",
     "output_type": "stream",
     "text": [
      "val Loss: 1.0345 Acc: 0.6269 Time: 18m 22s\n",
      "Epoch 00008: reducing learning rate of group 0 to 1.0000e-03.\n",
      "learning rate: 0.001\n",
      "Epoch 8/29\n",
      "----------\n"
     ]
    },
    {
     "name": "stderr",
     "output_type": "stream",
     "text": [
      "100%|█████████████████████████████████████████████████████████████████████████████████████████████| 477/477 [02:10<00:00,  3.66it/s]\n"
     ]
    },
    {
     "name": "stdout",
     "output_type": "stream",
     "text": [
      "train Loss: 0.0216 Acc: 0.9988 Time: 21m 32s\n"
     ]
    },
    {
     "name": "stderr",
     "output_type": "stream",
     "text": [
      "100%|███████████████████████████████████████████████████████████████████████████████████████████████| 60/60 [00:07<00:00,  8.07it/s]\n"
     ]
    },
    {
     "name": "stdout",
     "output_type": "stream",
     "text": [
      "val Loss: 1.0192 Acc: 0.6303 Time: 21m 40s\n",
      "learning rate: 0.001\n",
      "Epoch 9/29\n",
      "----------\n"
     ]
    },
    {
     "name": "stderr",
     "output_type": "stream",
     "text": [
      "100%|█████████████████████████████████████████████████████████████████████████████████████████████| 477/477 [02:10<00:00,  3.66it/s]\n"
     ]
    },
    {
     "name": "stdout",
     "output_type": "stream",
     "text": [
      "train Loss: 0.0214 Acc: 0.9989 Time: 23m 50s\n"
     ]
    },
    {
     "name": "stderr",
     "output_type": "stream",
     "text": [
      "100%|███████████████████████████████████████████████████████████████████████████████████████████████| 60/60 [00:07<00:00,  8.15it/s]\n"
     ]
    },
    {
     "name": "stdout",
     "output_type": "stream",
     "text": [
      "val Loss: 1.0302 Acc: 0.6306 Time: 23m 57s\n",
      "learning rate: 0.001\n",
      "Epoch 10/29\n",
      "----------\n"
     ]
    },
    {
     "name": "stderr",
     "output_type": "stream",
     "text": [
      "100%|█████████████████████████████████████████████████████████████████████████████████████████████| 477/477 [02:10<00:00,  3.66it/s]\n"
     ]
    },
    {
     "name": "stdout",
     "output_type": "stream",
     "text": [
      "train Loss: 0.0210 Acc: 0.9990 Time: 25m 8s\n"
     ]
    },
    {
     "name": "stderr",
     "output_type": "stream",
     "text": [
      "100%|███████████████████████████████████████████████████████████████████████████████████████████████| 60/60 [00:07<00:00,  8.09it/s]\n"
     ]
    },
    {
     "name": "stdout",
     "output_type": "stream",
     "text": [
      "val Loss: 1.0199 Acc: 0.6298 Time: 25m 15s\n",
      "learning rate: 0.001\n",
      "Epoch 11/29\n",
      "----------\n"
     ]
    },
    {
     "name": "stderr",
     "output_type": "stream",
     "text": [
      "100%|█████████████████████████████████████████████████████████████████████████████████████████████| 477/477 [02:10<00:00,  3.66it/s]\n"
     ]
    },
    {
     "name": "stdout",
     "output_type": "stream",
     "text": [
      "train Loss: 0.0206 Acc: 0.9990 Time: 27m 26s\n"
     ]
    },
    {
     "name": "stderr",
     "output_type": "stream",
     "text": [
      "100%|███████████████████████████████████████████████████████████████████████████████████████████████| 60/60 [00:07<00:00,  7.97it/s]\n"
     ]
    },
    {
     "name": "stdout",
     "output_type": "stream",
     "text": [
      "val Loss: 1.0260 Acc: 0.6324 Time: 28m 33s\n",
      "learning rate: 0.001\n",
      "Epoch 12/29\n",
      "----------\n"
     ]
    },
    {
     "name": "stderr",
     "output_type": "stream",
     "text": [
      "100%|█████████████████████████████████████████████████████████████████████████████████████████████| 477/477 [02:10<00:00,  3.66it/s]\n"
     ]
    },
    {
     "name": "stdout",
     "output_type": "stream",
     "text": [
      "train Loss: 0.0204 Acc: 0.9990 Time: 30m 43s\n"
     ]
    },
    {
     "name": "stderr",
     "output_type": "stream",
     "text": [
      "100%|███████████████████████████████████████████████████████████████████████████████████████████████| 60/60 [00:07<00:00,  8.08it/s]\n"
     ]
    },
    {
     "name": "stdout",
     "output_type": "stream",
     "text": [
      "val Loss: 1.0273 Acc: 0.6324 Time: 30m 51s\n",
      "learning rate: 0.001\n",
      "Epoch 13/29\n",
      "----------\n"
     ]
    },
    {
     "name": "stderr",
     "output_type": "stream",
     "text": [
      "100%|█████████████████████████████████████████████████████████████████████████████████████████████| 477/477 [02:10<00:00,  3.67it/s]\n"
     ]
    },
    {
     "name": "stdout",
     "output_type": "stream",
     "text": [
      "train Loss: 0.0206 Acc: 0.9988 Time: 32m 1s\n"
     ]
    },
    {
     "name": "stderr",
     "output_type": "stream",
     "text": [
      "100%|███████████████████████████████████████████████████████████████████████████████████████████████| 60/60 [00:07<00:00,  8.05it/s]\n"
     ]
    },
    {
     "name": "stdout",
     "output_type": "stream",
     "text": [
      "val Loss: 1.0280 Acc: 0.6317 Time: 32m 8s\n",
      "learning rate: 0.001\n",
      "Epoch 14/29\n",
      "----------\n"
     ]
    },
    {
     "name": "stderr",
     "output_type": "stream",
     "text": [
      "100%|█████████████████████████████████████████████████████████████████████████████████████████████| 477/477 [02:10<00:00,  3.66it/s]\n"
     ]
    },
    {
     "name": "stdout",
     "output_type": "stream",
     "text": [
      "train Loss: 0.0204 Acc: 0.9989 Time: 34m 19s\n"
     ]
    },
    {
     "name": "stderr",
     "output_type": "stream",
     "text": [
      "100%|███████████████████████████████████████████████████████████████████████████████████████████████| 60/60 [00:07<00:00,  8.06it/s]\n"
     ]
    },
    {
     "name": "stdout",
     "output_type": "stream",
     "text": [
      "val Loss: 1.0237 Acc: 0.6314 Time: 34m 26s\n",
      "learning rate: 0.001\n",
      "Epoch 15/29\n",
      "----------\n"
     ]
    },
    {
     "name": "stderr",
     "output_type": "stream",
     "text": [
      "100%|█████████████████████████████████████████████████████████████████████████████████████████████| 477/477 [02:10<00:00,  3.66it/s]\n"
     ]
    },
    {
     "name": "stdout",
     "output_type": "stream",
     "text": [
      "train Loss: 0.0203 Acc: 0.9988 Time: 37m 36s\n"
     ]
    },
    {
     "name": "stderr",
     "output_type": "stream",
     "text": [
      "100%|███████████████████████████████████████████████████████████████████████████████████████████████| 60/60 [00:07<00:00,  7.53it/s]\n"
     ]
    },
    {
     "name": "stdout",
     "output_type": "stream",
     "text": [
      "val Loss: 1.0303 Acc: 0.6288 Time: 37m 44s\n",
      "Epoch 00016: reducing learning rate of group 0 to 1.0000e-04.\n",
      "learning rate: 0.0001\n",
      "Epoch 16/29\n",
      "----------\n"
     ]
    },
    {
     "name": "stderr",
     "output_type": "stream",
     "text": [
      "100%|█████████████████████████████████████████████████████████████████████████████████████████████| 477/477 [02:10<00:00,  3.66it/s]\n"
     ]
    },
    {
     "name": "stdout",
     "output_type": "stream",
     "text": [
      "train Loss: 0.0202 Acc: 0.9990 Time: 39m 55s\n"
     ]
    },
    {
     "name": "stderr",
     "output_type": "stream",
     "text": [
      "100%|███████████████████████████████████████████████████████████████████████████████████████████████| 60/60 [00:07<00:00,  8.11it/s]\n"
     ]
    },
    {
     "name": "stdout",
     "output_type": "stream",
     "text": [
      "val Loss: 1.0251 Acc: 0.6275 Time: 39m 2s\n",
      "learning rate: 0.0001\n",
      "Epoch 17/29\n",
      "----------\n"
     ]
    },
    {
     "name": "stderr",
     "output_type": "stream",
     "text": [
      "100%|█████████████████████████████████████████████████████████████████████████████████████████████| 477/477 [02:10<00:00,  3.67it/s]\n"
     ]
    },
    {
     "name": "stdout",
     "output_type": "stream",
     "text": [
      "train Loss: 0.0200 Acc: 0.9990 Time: 41m 12s\n"
     ]
    },
    {
     "name": "stderr",
     "output_type": "stream",
     "text": [
      "100%|███████████████████████████████████████████████████████████████████████████████████████████████| 60/60 [00:07<00:00,  8.10it/s]\n"
     ]
    },
    {
     "name": "stdout",
     "output_type": "stream",
     "text": [
      "val Loss: 1.0369 Acc: 0.6235 Time: 41m 19s\n",
      "learning rate: 0.0001\n",
      "Epoch 18/29\n",
      "----------\n"
     ]
    },
    {
     "name": "stderr",
     "output_type": "stream",
     "text": [
      "100%|█████████████████████████████████████████████████████████████████████████████████████████████| 477/477 [02:10<00:00,  3.66it/s]\n"
     ]
    },
    {
     "name": "stdout",
     "output_type": "stream",
     "text": [
      "train Loss: 0.0200 Acc: 0.9991 Time: 43m 30s\n"
     ]
    },
    {
     "name": "stderr",
     "output_type": "stream",
     "text": [
      "100%|███████████████████████████████████████████████████████████████████████████████████████████████| 60/60 [00:07<00:00,  8.12it/s]\n"
     ]
    },
    {
     "name": "stdout",
     "output_type": "stream",
     "text": [
      "val Loss: 1.0225 Acc: 0.6303 Time: 44m 37s\n",
      "learning rate: 0.0001\n",
      "Epoch 19/29\n",
      "----------\n"
     ]
    },
    {
     "name": "stderr",
     "output_type": "stream",
     "text": [
      "100%|█████████████████████████████████████████████████████████████████████████████████████████████| 477/477 [02:10<00:00,  3.66it/s]\n"
     ]
    },
    {
     "name": "stdout",
     "output_type": "stream",
     "text": [
      "train Loss: 0.0203 Acc: 0.9989 Time: 46m 47s\n"
     ]
    },
    {
     "name": "stderr",
     "output_type": "stream",
     "text": [
      "100%|███████████████████████████████████████████████████████████████████████████████████████████████| 60/60 [00:07<00:00,  8.03it/s]\n"
     ]
    },
    {
     "name": "stdout",
     "output_type": "stream",
     "text": [
      "val Loss: 1.0274 Acc: 0.6275 Time: 46m 55s\n",
      "Epoch 00020: reducing learning rate of group 0 to 1.0000e-05.\n",
      "learning rate: 1e-05\n",
      "Epoch 20/29\n",
      "----------\n"
     ]
    },
    {
     "name": "stderr",
     "output_type": "stream",
     "text": [
      "100%|█████████████████████████████████████████████████████████████████████████████████████████████| 477/477 [02:10<00:00,  3.66it/s]\n"
     ]
    },
    {
     "name": "stdout",
     "output_type": "stream",
     "text": [
      "train Loss: 0.0200 Acc: 0.9989 Time: 48m 5s\n"
     ]
    },
    {
     "name": "stderr",
     "output_type": "stream",
     "text": [
      "100%|███████████████████████████████████████████████████████████████████████████████████████████████| 60/60 [00:07<00:00,  8.07it/s]\n"
     ]
    },
    {
     "name": "stdout",
     "output_type": "stream",
     "text": [
      "val Loss: 1.0258 Acc: 0.6314 Time: 48m 13s\n",
      "learning rate: 1e-05\n",
      "Epoch 21/29\n",
      "----------\n"
     ]
    },
    {
     "name": "stderr",
     "output_type": "stream",
     "text": [
      "100%|█████████████████████████████████████████████████████████████████████████████████████████████| 477/477 [02:10<00:00,  3.66it/s]\n"
     ]
    },
    {
     "name": "stdout",
     "output_type": "stream",
     "text": [
      "train Loss: 0.0199 Acc: 0.9990 Time: 50m 23s\n"
     ]
    },
    {
     "name": "stderr",
     "output_type": "stream",
     "text": [
      "100%|███████████████████████████████████████████████████████████████████████████████████████████████| 60/60 [00:07<00:00,  8.01it/s]\n"
     ]
    },
    {
     "name": "stdout",
     "output_type": "stream",
     "text": [
      "val Loss: 1.0167 Acc: 0.6290 Time: 51m 30s\n",
      "learning rate: 1e-05\n",
      "Epoch 22/29\n",
      "----------\n"
     ]
    },
    {
     "name": "stderr",
     "output_type": "stream",
     "text": [
      "100%|█████████████████████████████████████████████████████████████████████████████████████████████| 477/477 [02:10<00:00,  3.66it/s]\n"
     ]
    },
    {
     "name": "stdout",
     "output_type": "stream",
     "text": [
      "train Loss: 0.0200 Acc: 0.9990 Time: 53m 40s\n"
     ]
    },
    {
     "name": "stderr",
     "output_type": "stream",
     "text": [
      "100%|███████████████████████████████████████████████████████████████████████████████████████████████| 60/60 [00:07<00:00,  8.05it/s]\n"
     ]
    },
    {
     "name": "stdout",
     "output_type": "stream",
     "text": [
      "val Loss: 1.0229 Acc: 0.6298 Time: 53m 48s\n",
      "learning rate: 1e-05\n",
      "Epoch 23/29\n",
      "----------\n"
     ]
    },
    {
     "name": "stderr",
     "output_type": "stream",
     "text": [
      "100%|█████████████████████████████████████████████████████████████████████████████████████████████| 477/477 [02:10<00:00,  3.66it/s]\n"
     ]
    },
    {
     "name": "stdout",
     "output_type": "stream",
     "text": [
      "train Loss: 0.0201 Acc: 0.9990 Time: 55m 58s\n"
     ]
    },
    {
     "name": "stderr",
     "output_type": "stream",
     "text": [
      "100%|███████████████████████████████████████████████████████████████████████████████████████████████| 60/60 [00:07<00:00,  8.10it/s]\n"
     ]
    },
    {
     "name": "stdout",
     "output_type": "stream",
     "text": [
      "val Loss: 1.0370 Acc: 0.6219 Time: 55m 6s\n",
      "Epoch 00024: reducing learning rate of group 0 to 1.0000e-06.\n",
      "learning rate: 1.0000000000000002e-06\n",
      "Epoch 24/29\n",
      "----------\n"
     ]
    },
    {
     "name": "stderr",
     "output_type": "stream",
     "text": [
      "100%|█████████████████████████████████████████████████████████████████████████████████████████████| 477/477 [02:10<00:00,  3.66it/s]\n"
     ]
    },
    {
     "name": "stdout",
     "output_type": "stream",
     "text": [
      "train Loss: 0.0198 Acc: 0.9992 Time: 57m 16s\n"
     ]
    },
    {
     "name": "stderr",
     "output_type": "stream",
     "text": [
      "100%|███████████████████████████████████████████████████████████████████████████████████████████████| 60/60 [00:07<00:00,  8.16it/s]\n"
     ]
    },
    {
     "name": "stdout",
     "output_type": "stream",
     "text": [
      "val Loss: 1.0275 Acc: 0.6261 Time: 57m 23s\n",
      "learning rate: 1.0000000000000002e-06\n",
      "Epoch 25/29\n",
      "----------\n"
     ]
    },
    {
     "name": "stderr",
     "output_type": "stream",
     "text": [
      "100%|█████████████████████████████████████████████████████████████████████████████████████████████| 477/477 [02:10<00:00,  3.66it/s]\n"
     ]
    },
    {
     "name": "stdout",
     "output_type": "stream",
     "text": [
      "train Loss: 0.0199 Acc: 0.9990 Time: 60m 33s\n"
     ]
    },
    {
     "name": "stderr",
     "output_type": "stream",
     "text": [
      "100%|███████████████████████████████████████████████████████████████████████████████████████████████| 60/60 [00:07<00:00,  8.00it/s]\n"
     ]
    },
    {
     "name": "stdout",
     "output_type": "stream",
     "text": [
      "val Loss: 1.0249 Acc: 0.6311 Time: 60m 41s\n",
      "learning rate: 1.0000000000000002e-06\n",
      "Epoch 26/29\n",
      "----------\n"
     ]
    },
    {
     "name": "stderr",
     "output_type": "stream",
     "text": [
      "100%|█████████████████████████████████████████████████████████████████████████████████████████████| 477/477 [02:10<00:00,  3.66it/s]\n"
     ]
    },
    {
     "name": "stdout",
     "output_type": "stream",
     "text": [
      "train Loss: 0.0202 Acc: 0.9988 Time: 62m 51s\n"
     ]
    },
    {
     "name": "stderr",
     "output_type": "stream",
     "text": [
      "100%|███████████████████████████████████████████████████████████████████████████████████████████████| 60/60 [00:07<00:00,  8.10it/s]\n"
     ]
    },
    {
     "name": "stdout",
     "output_type": "stream",
     "text": [
      "val Loss: 1.0319 Acc: 0.6264 Time: 62m 58s\n",
      "learning rate: 1.0000000000000002e-06\n",
      "Epoch 27/29\n",
      "----------\n"
     ]
    },
    {
     "name": "stderr",
     "output_type": "stream",
     "text": [
      "100%|█████████████████████████████████████████████████████████████████████████████████████████████| 477/477 [02:10<00:00,  3.66it/s]\n"
     ]
    },
    {
     "name": "stdout",
     "output_type": "stream",
     "text": [
      "train Loss: 0.0200 Acc: 0.9991 Time: 64m 9s\n"
     ]
    },
    {
     "name": "stderr",
     "output_type": "stream",
     "text": [
      "100%|███████████████████████████████████████████████████████████████████████████████████████████████| 60/60 [00:07<00:00,  8.08it/s]\n"
     ]
    },
    {
     "name": "stdout",
     "output_type": "stream",
     "text": [
      "val Loss: 1.0282 Acc: 0.6290 Time: 64m 16s\n",
      "Epoch 00028: reducing learning rate of group 0 to 1.0000e-07.\n",
      "learning rate: 1.0000000000000002e-07\n",
      "Epoch 28/29\n",
      "----------\n"
     ]
    },
    {
     "name": "stderr",
     "output_type": "stream",
     "text": [
      "100%|█████████████████████████████████████████████████████████████████████████████████████████████| 477/477 [02:10<00:00,  3.66it/s]\n"
     ]
    },
    {
     "name": "stdout",
     "output_type": "stream",
     "text": [
      "train Loss: 0.0199 Acc: 0.9990 Time: 66m 26s\n"
     ]
    },
    {
     "name": "stderr",
     "output_type": "stream",
     "text": [
      "100%|███████████████████████████████████████████████████████████████████████████████████████████████| 60/60 [00:07<00:00,  8.06it/s]\n"
     ]
    },
    {
     "name": "stdout",
     "output_type": "stream",
     "text": [
      "val Loss: 1.0267 Acc: 0.6314 Time: 67m 34s\n",
      "learning rate: 1.0000000000000002e-07\n",
      "Epoch 29/29\n",
      "----------\n"
     ]
    },
    {
     "name": "stderr",
     "output_type": "stream",
     "text": [
      "100%|█████████████████████████████████████████████████████████████████████████████████████████████| 477/477 [02:10<00:00,  3.66it/s]\n"
     ]
    },
    {
     "name": "stdout",
     "output_type": "stream",
     "text": [
      "train Loss: 0.0200 Acc: 0.9990 Time: 69m 44s\n"
     ]
    },
    {
     "name": "stderr",
     "output_type": "stream",
     "text": [
      "100%|███████████████████████████████████████████████████████████████████████████████████████████████| 60/60 [00:07<00:00,  8.10it/s]\n"
     ]
    },
    {
     "name": "stdout",
     "output_type": "stream",
     "text": [
      "val Loss: 1.0285 Acc: 0.6293 Time: 69m 51s\n",
      "learning rate: 1.0000000000000002e-07\n",
      "Training complete in 68m 51s\n",
      "Best val Acc: 0.632449\n"
     ]
    }
   ],
   "source": [
    "train_model(model, model_info, dataset_sizes, dataloader_train, dataloader_val, criterion, optimizer, exp_lr_scheduler, target_labels, num_epochs)"
   ]
  },
  {
   "cell_type": "markdown",
   "id": "9f59e5c3-76ca-4a6e-ae0f-7f4851ac6e49",
   "metadata": {},
   "source": [
    "## Evaluate on test set"
   ]
  },
  {
   "cell_type": "code",
   "execution_count": 21,
   "id": "b2988f05-cdb9-42e6-a70e-2a60245121ad",
   "metadata": {},
   "outputs": [
    {
     "name": "stderr",
     "output_type": "stream",
     "text": [
      "100%|██████████████████████████████████████████████████████████████████████████████████████████| 3811/3811 [00:22<00:00, 169.90it/s]"
     ]
    },
    {
     "name": "stdout",
     "output_type": "stream",
     "text": [
      "Test Acc: 0.6301\n",
      "Average time per image: 0.0059 seconds\n"
     ]
    },
    {
     "name": "stderr",
     "output_type": "stream",
     "text": [
      "\n"
     ]
    }
   ],
   "source": [
    "# Load saved model\n",
    "model_name = 'bilinear_vgg16_ft_100classes_30epochs_makemodelyear_acc_0.632.pth'\n",
    "backbone_model = 'bilinear_vgg16_ft'\n",
    "target_labels = 'makemodelyear'\n",
    "model = get_model(num_labels, backbone_model).to(device)\n",
    "model.load_state_dict(torch.load(os.path.join(root_path, 'models', model_name)))\n",
    "\n",
    "cm, cr = evaluate_model(model, dataset_sizes, dataloader_test, target_labels, target_make_model_year_labels)\n",
    "\n",
    "# plot the CM\n",
    "cm_pd = cm.astype('float') / cm.sum(axis=1)[:, np.newaxis]\n",
    "cm_pd = pd.DataFrame(cm_pd, index=target_make_model_year_labels, columns=target_make_model_year_labels)\n",
    "cr_pd = pd.DataFrame(cr).transpose()"
   ]
  },
  {
   "cell_type": "code",
   "execution_count": null,
   "id": "2284ba04-bd05-4116-b36c-28aa03a64156",
   "metadata": {},
   "outputs": [],
   "source": [
    "model"
   ]
  },
  {
   "cell_type": "markdown",
   "id": "deddef57-75e2-4abe-9ecc-2bf416177a4f",
   "metadata": {},
   "source": [
    "- Confusion matrix"
   ]
  },
  {
   "cell_type": "code",
   "execution_count": null,
   "id": "cbb12bf4-2520-494d-9219-e3b63e9222e2",
   "metadata": {},
   "outputs": [],
   "source": [
    "cm_pd"
   ]
  },
  {
   "cell_type": "markdown",
   "id": "cabb01c9-0eed-447e-9bcc-e1a7b5f19941",
   "metadata": {},
   "source": [
    "- Classification Report"
   ]
  },
  {
   "cell_type": "code",
   "execution_count": null,
   "id": "a0946370-5849-4b25-a207-a8670171da33",
   "metadata": {},
   "outputs": [],
   "source": [
    "cr_pd"
   ]
  },
  {
   "cell_type": "markdown",
   "id": "b1845560-7130-4d60-ad6e-1a298c863079",
   "metadata": {
    "tags": []
   },
   "source": [
    "- Save/Load the metrics"
   ]
  },
  {
   "cell_type": "code",
   "execution_count": 22,
   "id": "c770ca29-128c-4130-83f2-546b2e0981ef",
   "metadata": {},
   "outputs": [],
   "source": [
    "cm_pd.to_csv(os.path.join(root_path, 'results', 'bilinear', f\"confusion_matrix_{model_name}.csv\"), index=False)\n",
    "cr_pd.to_csv(os.path.join(root_path, 'results', 'bilinear', f\"classification_report_{model_name}.csv\"), index=False)\n",
    "#cm_pd_df = pd.read_csv(os.path.join(root_path, 'results', 'baseline_methods', f\"confusion_matrix_{model_name}.csv\"))\n",
    "#cr_pd_df = pd.read_csv(os.path.join(root_path, 'results', 'baseline_methods', f\"classification_report_{model_name}.csv\"))"
   ]
  },
  {
   "cell_type": "markdown",
   "id": "db6fc8b6-0d4d-4ded-b33f-f01ac860d61a",
   "metadata": {},
   "source": [
    "## Visually Inspect performance\n",
    "- Load a target model to inpect"
   ]
  },
  {
   "cell_type": "code",
   "execution_count": null,
   "id": "9fb5d5a8-481d-458f-b6b2-ccfc7e5a42c2",
   "metadata": {},
   "outputs": [],
   "source": [
    "# Load saved model\n",
    "model = get_model(num_labels, backbone_model).to(device)\n",
    "model.load_state_dict(torch.load(os.path.join(root_path, 'models', model_name)))"
   ]
  },
  {
   "cell_type": "markdown",
   "id": "78ac6d27-664e-4ba2-800c-1fde9a169fba",
   "metadata": {},
   "source": [
    "- Visualize for a few examples from the test set"
   ]
  },
  {
   "cell_type": "code",
   "execution_count": null,
   "id": "0b9a7a31-a4a2-4315-a4c4-a6f3004acd89",
   "metadata": {},
   "outputs": [],
   "source": [
    "visualize_model(model, dataset, dataloader_test, target_labels, target_make_model_year_labels, num_images=10)"
   ]
  },
  {
   "cell_type": "code",
   "execution_count": null,
   "id": "190e0034-c455-470a-9fa4-e550d5e6ef72",
   "metadata": {},
   "outputs": [],
   "source": []
  },
  {
   "cell_type": "code",
   "execution_count": null,
   "id": "a8c957f9",
   "metadata": {},
   "outputs": [],
   "source": []
  },
  {
   "cell_type": "markdown",
   "id": "e744a638",
   "metadata": {},
   "source": []
  },
  {
   "cell_type": "code",
   "execution_count": null,
   "id": "1f342dd5",
   "metadata": {},
   "outputs": [],
   "source": []
  }
 ],
 "metadata": {
  "kernelspec": {
   "display_name": "Python 3",
   "language": "python",
   "name": "python3"
  },
  "language_info": {
   "codemirror_mode": {
    "name": "ipython",
    "version": 3
   },
   "file_extension": ".py",
   "mimetype": "text/x-python",
   "name": "python",
   "nbconvert_exporter": "python",
   "pygments_lexer": "ipython3",
   "version": "3.7.12"
  }
 },
 "nbformat": 4,
 "nbformat_minor": 5
}
