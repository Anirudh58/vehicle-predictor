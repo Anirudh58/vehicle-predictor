{
 "cells": [
  {
   "cell_type": "code",
   "execution_count": 1,
   "id": "b51a8f78-b4ed-433a-b4d9-3d00426e1155",
   "metadata": {},
   "outputs": [],
   "source": [
    "%load_ext autoreload\n",
    "%autoreload 2\n",
    "\n",
    "import copy\n",
    "import os\n",
    "import sys\n",
    "import time\n",
    "from tqdm import tqdm\n",
    "\n",
    "import matplotlib.pyplot as plt\n",
    "import seaborn as sns\n",
    "import numpy as np\n",
    "import pandas as pd\n",
    "import pickle\n",
    "import sklearn\n",
    "\n",
    "import torch\n",
    "\n",
    "torch.manual_seed(0)\n",
    "\n",
    "import torchvision\n",
    "from torchvision import transforms\n",
    "import torch.nn as nn\n",
    "\n",
    "sys.path.append('./../')\n",
    "from src.dataset import VehiclePredictorDataset\n",
    "from src.utils import train_model, evaluate_model, get_model, visualize_model\n",
    "#from src.bilinear import BCNN"
   ]
  },
  {
   "cell_type": "markdown",
   "id": "2c08438f-2b23-4dd4-864a-59fc0ebc7dea",
   "metadata": {},
   "source": [
    "## GPU Check"
   ]
  },
  {
   "cell_type": "code",
   "execution_count": 2,
   "id": "1c450427-87df-46ab-bdf1-3acf59608996",
   "metadata": {},
   "outputs": [
    {
     "name": "stdout",
     "output_type": "stream",
     "text": [
      "cuda:0\n"
     ]
    }
   ],
   "source": [
    "device = torch.device('cuda:0' if torch.cuda.is_available() else 'cpu')\n",
    "print(device)"
   ]
  },
  {
   "cell_type": "markdown",
   "id": "4d61d102-0487-4aad-8af7-ac99ceca3aa7",
   "metadata": {},
   "source": [
    "## Config Variables"
   ]
  },
  {
   "cell_type": "code",
   "execution_count": 3,
   "id": "52dff7a1-72d7-444b-9611-4ada42092331",
   "metadata": {},
   "outputs": [
    {
     "name": "stdout",
     "output_type": "stream",
     "text": [
      "num_images: 99562\n",
      "num_labels: 400\n"
     ]
    }
   ],
   "source": [
    "root_path = './../'\n",
    "data_path = os.path.join(root_path, 'data')\n",
    "dataset_path = os.path.join(data_path, 'VMMRdb')\n",
    "\n",
    "# modify this line if you want to train a model on top 100/top 200/top 300 most common make_models\n",
    "with open(os.path.join(data_path, 'make_model_year_most_common_400.pkl'), 'rb') as f:\n",
    "    target_make_model_year_labels = pickle.load(f)\n",
    "\n",
    "# load the dataset for some stats\n",
    "vp_dataset = VehiclePredictorDataset(root_dir=dataset_path, target_make_model_year_labels=target_make_model_year_labels)\n",
    "num_images = len(vp_dataset)\n",
    "num_labels = len(vp_dataset.make_model_year_counts)\n",
    "class_distribution = vp_dataset.make_model_year_counts\n",
    "print(f\"num_images: {num_images}\")\n",
    "print(f\"num_labels: {num_labels}\")"
   ]
  },
  {
   "cell_type": "markdown",
   "id": "2ac3f280-07f2-4e7b-8126-aefe5e82c0bf",
   "metadata": {},
   "source": [
    "## Define the transforms\n",
    "- Add other transforms here later, if needed. \n",
    "- Do we need any specific transforms for train and val?"
   ]
  },
  {
   "cell_type": "code",
   "execution_count": 4,
   "id": "95c0f001-93b7-46f7-80a5-48f7d15eb4d4",
   "metadata": {},
   "outputs": [],
   "source": [
    "def get_transform():\n",
    "    \n",
    "    transform = transforms.Compose([\n",
    "        #transforms.Resize((224, 224)),\n",
    "        #transforms.Resize((448, 448)),\n",
    "        \n",
    "        torchvision.transforms.Resize(size=224),\n",
    "        transforms.RandomHorizontalFlip(),\n",
    "        torchvision.transforms.CenterCrop(size=224),\n",
    "        \n",
    "        transforms.ToTensor(),\n",
    "        transforms.Normalize(mean=[0.485, 0.456, 0.406], std=[0.229, 0.224, 0.225])\n",
    "    ])\n",
    "    \n",
    "    return transform"
   ]
  },
  {
   "cell_type": "markdown",
   "id": "5d4e66e4-8b06-4247-88be-780925b37760",
   "metadata": {},
   "source": [
    "## Instantiate the train, val and test dataloaders"
   ]
  },
  {
   "cell_type": "code",
   "execution_count": 5,
   "id": "36818fe0-473f-4210-847e-fc05acea41f3",
   "metadata": {
    "scrolled": false
   },
   "outputs": [
    {
     "name": "stdout",
     "output_type": "stream",
     "text": [
      "train: 0 to 79649\n",
      "val: 79649 to 89605\n",
      "test: 89605 to 99561\n",
      "dataset_sizes : {'train': 79649, 'val': 9956, 'test': 9956}\n"
     ]
    },
    {
     "name": "stderr",
     "output_type": "stream",
     "text": [
      "/opt/conda/lib/python3.7/site-packages/torch/utils/data/dataloader.py:566: UserWarning: This DataLoader will create 16 worker processes in total. Our suggested max number of worker in current system is 8, which is smaller than what this DataLoader is going to create. Please be aware that excessive worker creation might get DataLoader running slow or even freeze, lower the worker number to avoid potential slowness/freeze if necessary.\n",
      "  cpuset_checked))\n"
     ]
    }
   ],
   "source": [
    "train_split_ratio = 0.8\n",
    "val_split_ratio = 0.1\n",
    "test_split_ration = 0.1\n",
    "\n",
    "# later see if you can have train-specific transforms\n",
    "dataset = VehiclePredictorDataset(root_dir=dataset_path, target_make_model_year_labels=target_make_model_year_labels, transform=get_transform())\n",
    "\n",
    "# split dataset in train and val set\n",
    "dataset_len = len(dataset)\n",
    "indices = torch.randperm(dataset_len).tolist()\n",
    "train_split_index = int(train_split_ratio * dataset_len)\n",
    "val_split_index = train_split_index + int(val_split_ratio * dataset_len)\n",
    "train_dataset = torch.utils.data.Subset(dataset, indices[0:train_split_index])\n",
    "val_dataset = torch.utils.data.Subset(dataset, indices[train_split_index:val_split_index])\n",
    "test_dataset = torch.utils.data.Subset(dataset, indices[val_split_index:])\n",
    "\n",
    "set_num_workers = 16;\n",
    "batch_size = 64\n",
    "\n",
    "# define the dataloaders\n",
    "dataloader_train = torch.utils.data.DataLoader(\n",
    "    train_dataset,\n",
    "    batch_size=batch_size,\n",
    "    shuffle=True,\n",
    "    num_workers=set_num_workers,\n",
    ")\n",
    "\n",
    "dataloader_val = torch.utils.data.DataLoader(\n",
    "    val_dataset,\n",
    "    batch_size=batch_size,\n",
    "    shuffle=False,\n",
    "    num_workers=set_num_workers,\n",
    ")\n",
    "\n",
    "dataloader_test = torch.utils.data.DataLoader(\n",
    "    test_dataset,\n",
    "    batch_size=1,\n",
    "    shuffle=True,\n",
    "    num_workers=set_num_workers,\n",
    ")\n",
    "\n",
    "dataset_sizes = {\n",
    "    'train': len(train_dataset),\n",
    "    'val': len(val_dataset),\n",
    "    'test': len(val_dataset)\n",
    "}\n",
    "\n",
    "print(f'train: 0 to {train_split_index}\\nval: {train_split_index} to {val_split_index}\\ntest: {val_split_index} to {dataset_len-1}')\n",
    "print(f'dataset_sizes : {dataset_sizes}')"
   ]
  },
  {
   "cell_type": "markdown",
   "id": "a5d6173b-8610-4afe-990c-3b7d4d6172f4",
   "metadata": {
    "tags": []
   },
   "source": [
    "## Model config"
   ]
  },
  {
   "cell_type": "code",
   "execution_count": 6,
   "id": "d6737130-151b-49ae-8577-b152e1d0776a",
   "metadata": {},
   "outputs": [
    {
     "name": "stderr",
     "output_type": "stream",
     "text": [
      "/opt/conda/lib/python3.7/site-packages/torchvision/models/_utils.py:209: UserWarning: The parameter 'pretrained' is deprecated since 0.13 and will be removed in 0.15, please use 'weights' instead.\n",
      "  f\"The parameter '{pretrained_param}' is deprecated since 0.13 and will be removed in 0.15, \"\n",
      "/opt/conda/lib/python3.7/site-packages/torchvision/models/_utils.py:223: UserWarning: Arguments other than a weight enum or `None` for 'weights' are deprecated since 0.13 and will be removed in 0.15. The current behavior is equivalent to passing `weights=VGG16_Weights.IMAGENET1K_V1`. You can also use `weights=VGG16_Weights.DEFAULT` to get the most up-to-date weights.\n",
      "  warnings.warn(msg)\n",
      "./../src/bilinear_vgg16.py:21: UserWarning: nn.init.kaiming_normal is now deprecated in favor of nn.init.kaiming_normal_.\n",
      "  torch.nn.init.kaiming_normal(self.fc.weight.data)  # Initialize the fc layers.\n",
      "./../src/bilinear_vgg16.py:23: UserWarning: nn.init.constant is now deprecated in favor of nn.init.constant_.\n",
      "  torch.nn.init.constant(self.fc.bias.data, val=0)\n"
     ]
    },
    {
     "name": "stdout",
     "output_type": "stream",
     "text": [
      "model_name: bilinear_vgg16_fc_400classes_55epochs_1lr_makemodelyear.pth\n"
     ]
    }
   ],
   "source": [
    "# check https://pytorch.org/vision/0.8/models.html to experiment with other backbone model\n",
    "#backbone_model = 'bilinear_resnet50_fc'\n",
    "backbone_model = 'bilinear_vgg16_fc'\n",
    "num_epochs = 55\n",
    "lr = 1\n",
    "\n",
    "# get the model\n",
    "model = get_model(num_labels, backbone_model).to(device)\n",
    "\n",
    "# the reason for computing weights is to account for the class imbalance\n",
    "weight_distribution = 1 / torch.tensor(list(class_distribution.values()))\n",
    "weight_distribution = weight_distribution / weight_distribution.sum()\n",
    "weight_distribution = weight_distribution.to(device)\n",
    "\n",
    "# define the loss function\n",
    "criterion = nn.CrossEntropyLoss(weight=weight_distribution)\n",
    "\n",
    "# define the optimizer\n",
    "optimizer = torch.optim.SGD(model.fc.parameters(), lr, momentum=0.9, weight_decay = 1e-8)\n",
    "\n",
    "# define the scheduler\n",
    "#exp_lr_scheduler = torch.optim.lr_scheduler.StepLR(optimizer, step_size=1, gamma=0.8)\n",
    "exp_lr_scheduler = torch.optim.lr_scheduler.ReduceLROnPlateau(optimizer, mode='max', factor=0.1, patience=3, verbose=True)\n",
    "\n",
    "target_labels = 'makemodelyear'\n",
    "model_info = {\n",
    "    'backbone': backbone_model,\n",
    "    'num_classes': f\"{num_labels}classes\",\n",
    "    'num_epochs': f\"{num_epochs}epochs\",\n",
    "    'lr': f\"{lr}lr\",\n",
    "    'labels': target_labels\n",
    "}\n",
    "model_name = \"_\".join([model_info[key] for key in model_info]) + \".pth\"\n",
    "print(f\"model_name: {model_name}\")"
   ]
  },
  {
   "cell_type": "markdown",
   "id": "4515b8b5-07a4-4837-9f76-58dbd31ede24",
   "metadata": {},
   "source": [
    "## Train\n",
    "- Uncomment this line if you want to train again. \n",
    "- The trained models are all stored in this [drive folder]( https://drive.google.com/drive/folders/1RXaKgStTFnVRaLvk-eIHEGhwvQp-y1-c?usp=sharing)"
   ]
  },
  {
   "cell_type": "code",
   "execution_count": 7,
   "id": "a1e5f1f5-effe-4e5a-b099-07457edd2857",
   "metadata": {
    "scrolled": false,
    "tags": []
   },
   "outputs": [
    {
     "name": "stdout",
     "output_type": "stream",
     "text": [
      "Epoch 0/54\n",
      "----------\n"
     ]
    },
    {
     "name": "stderr",
     "output_type": "stream",
     "text": [
      "100%|███████████████████████████████████████████████████████████████████████████████████████████| 1245/1245 [02:26<00:00,  8.51it/s]\n"
     ]
    },
    {
     "name": "stdout",
     "output_type": "stream",
     "text": [
      "train Loss: 5.6222 Acc: 0.0295 Time: 2m 26s\n"
     ]
    },
    {
     "name": "stderr",
     "output_type": "stream",
     "text": [
      "100%|█████████████████████████████████████████████████████████████████████████████████████████████| 156/156 [00:18<00:00,  8.30it/s]\n"
     ]
    },
    {
     "name": "stdout",
     "output_type": "stream",
     "text": [
      "val Loss: 5.2610 Acc: 0.0556 Time: 3m 45s\n",
      "learning rate: 1\n",
      "Epoch 1/54\n",
      "----------\n"
     ]
    },
    {
     "name": "stderr",
     "output_type": "stream",
     "text": [
      "100%|███████████████████████████████████████████████████████████████████████████████████████████| 1245/1245 [02:24<00:00,  8.59it/s]\n"
     ]
    },
    {
     "name": "stdout",
     "output_type": "stream",
     "text": [
      "train Loss: 4.9200 Acc: 0.1059 Time: 5m 10s\n"
     ]
    },
    {
     "name": "stderr",
     "output_type": "stream",
     "text": [
      "100%|█████████████████████████████████████████████████████████████████████████████████████████████| 156/156 [00:18<00:00,  8.31it/s]\n"
     ]
    },
    {
     "name": "stdout",
     "output_type": "stream",
     "text": [
      "val Loss: 4.7499 Acc: 0.1118 Time: 5m 29s\n",
      "learning rate: 1\n",
      "Epoch 2/54\n",
      "----------\n"
     ]
    },
    {
     "name": "stderr",
     "output_type": "stream",
     "text": [
      "100%|███████████████████████████████████████████████████████████████████████████████████████████| 1245/1245 [02:24<00:00,  8.62it/s]\n"
     ]
    },
    {
     "name": "stdout",
     "output_type": "stream",
     "text": [
      "train Loss: 4.4313 Acc: 0.1676 Time: 8m 53s\n"
     ]
    },
    {
     "name": "stderr",
     "output_type": "stream",
     "text": [
      "100%|█████████████████████████████████████████████████████████████████████████████████████████████| 156/156 [00:18<00:00,  8.33it/s]\n"
     ]
    },
    {
     "name": "stdout",
     "output_type": "stream",
     "text": [
      "val Loss: 4.3706 Acc: 0.1602 Time: 8m 12s\n",
      "learning rate: 1\n",
      "Epoch 3/54\n",
      "----------\n"
     ]
    },
    {
     "name": "stderr",
     "output_type": "stream",
     "text": [
      "100%|███████████████████████████████████████████████████████████████████████████████████████████| 1245/1245 [02:24<00:00,  8.63it/s]\n"
     ]
    },
    {
     "name": "stdout",
     "output_type": "stream",
     "text": [
      "train Loss: 4.0651 Acc: 0.2166 Time: 11m 36s\n"
     ]
    },
    {
     "name": "stderr",
     "output_type": "stream",
     "text": [
      "100%|█████████████████████████████████████████████████████████████████████████████████████████████| 156/156 [00:19<00:00,  8.11it/s]\n"
     ]
    },
    {
     "name": "stdout",
     "output_type": "stream",
     "text": [
      "val Loss: 4.1022 Acc: 0.1759 Time: 11m 56s\n",
      "learning rate: 1\n",
      "Epoch 4/54\n",
      "----------\n"
     ]
    },
    {
     "name": "stderr",
     "output_type": "stream",
     "text": [
      "100%|███████████████████████████████████████████████████████████████████████████████████████████| 1245/1245 [02:24<00:00,  8.64it/s]\n"
     ]
    },
    {
     "name": "stdout",
     "output_type": "stream",
     "text": [
      "train Loss: 3.7719 Acc: 0.2585 Time: 13m 20s\n"
     ]
    },
    {
     "name": "stderr",
     "output_type": "stream",
     "text": [
      "100%|█████████████████████████████████████████████████████████████████████████████████████████████| 156/156 [00:18<00:00,  8.28it/s]\n"
     ]
    },
    {
     "name": "stdout",
     "output_type": "stream",
     "text": [
      "val Loss: 3.8865 Acc: 0.1943 Time: 14m 39s\n",
      "learning rate: 1\n",
      "Epoch 5/54\n",
      "----------\n"
     ]
    },
    {
     "name": "stderr",
     "output_type": "stream",
     "text": [
      "100%|███████████████████████████████████████████████████████████████████████████████████████████| 1245/1245 [02:24<00:00,  8.60it/s]\n"
     ]
    },
    {
     "name": "stdout",
     "output_type": "stream",
     "text": [
      "train Loss: 3.5352 Acc: 0.2904 Time: 16m 3s\n"
     ]
    },
    {
     "name": "stderr",
     "output_type": "stream",
     "text": [
      "100%|█████████████████████████████████████████████████████████████████████████████████████████████| 156/156 [00:18<00:00,  8.25it/s]\n"
     ]
    },
    {
     "name": "stdout",
     "output_type": "stream",
     "text": [
      "val Loss: 3.7100 Acc: 0.2181 Time: 16m 22s\n",
      "learning rate: 1\n",
      "Epoch 6/54\n",
      "----------\n"
     ]
    },
    {
     "name": "stderr",
     "output_type": "stream",
     "text": [
      "100%|███████████████████████████████████████████████████████████████████████████████████████████| 1245/1245 [02:24<00:00,  8.62it/s]\n"
     ]
    },
    {
     "name": "stdout",
     "output_type": "stream",
     "text": [
      "train Loss: 3.3342 Acc: 0.3224 Time: 19m 47s\n"
     ]
    },
    {
     "name": "stderr",
     "output_type": "stream",
     "text": [
      "100%|█████████████████████████████████████████████████████████████████████████████████████████████| 156/156 [00:18<00:00,  8.27it/s]\n"
     ]
    },
    {
     "name": "stdout",
     "output_type": "stream",
     "text": [
      "val Loss: 3.5657 Acc: 0.2263 Time: 19m 6s\n",
      "learning rate: 1\n",
      "Epoch 7/54\n",
      "----------\n"
     ]
    },
    {
     "name": "stderr",
     "output_type": "stream",
     "text": [
      "100%|███████████████████████████████████████████████████████████████████████████████████████████| 1245/1245 [02:24<00:00,  8.63it/s]\n"
     ]
    },
    {
     "name": "stdout",
     "output_type": "stream",
     "text": [
      "train Loss: 3.1657 Acc: 0.3477 Time: 21m 30s\n"
     ]
    },
    {
     "name": "stderr",
     "output_type": "stream",
     "text": [
      "100%|█████████████████████████████████████████████████████████████████████████████████████████████| 156/156 [00:18<00:00,  8.28it/s]\n"
     ]
    },
    {
     "name": "stdout",
     "output_type": "stream",
     "text": [
      "val Loss: 3.4377 Acc: 0.2365 Time: 22m 49s\n",
      "learning rate: 1\n",
      "Epoch 8/54\n",
      "----------\n"
     ]
    },
    {
     "name": "stderr",
     "output_type": "stream",
     "text": [
      "100%|███████████████████████████████████████████████████████████████████████████████████████████| 1245/1245 [02:24<00:00,  8.63it/s]\n"
     ]
    },
    {
     "name": "stdout",
     "output_type": "stream",
     "text": [
      "train Loss: 3.0173 Acc: 0.3721 Time: 24m 13s\n"
     ]
    },
    {
     "name": "stderr",
     "output_type": "stream",
     "text": [
      "100%|█████████████████████████████████████████████████████████████████████████████████████████████| 156/156 [00:18<00:00,  8.36it/s]\n"
     ]
    },
    {
     "name": "stdout",
     "output_type": "stream",
     "text": [
      "val Loss: 3.3301 Acc: 0.2471 Time: 25m 32s\n",
      "learning rate: 1\n",
      "Epoch 9/54\n",
      "----------\n"
     ]
    },
    {
     "name": "stderr",
     "output_type": "stream",
     "text": [
      "100%|███████████████████████████████████████████████████████████████████████████████████████████| 1245/1245 [02:24<00:00,  8.59it/s]\n"
     ]
    },
    {
     "name": "stdout",
     "output_type": "stream",
     "text": [
      "train Loss: 2.8858 Acc: 0.3934 Time: 27m 57s\n"
     ]
    },
    {
     "name": "stderr",
     "output_type": "stream",
     "text": [
      "100%|█████████████████████████████████████████████████████████████████████████████████████████████| 156/156 [00:18<00:00,  8.29it/s]\n"
     ]
    },
    {
     "name": "stdout",
     "output_type": "stream",
     "text": [
      "val Loss: 3.2339 Acc: 0.2611 Time: 27m 15s\n",
      "learning rate: 1\n",
      "Epoch 10/54\n",
      "----------\n"
     ]
    },
    {
     "name": "stderr",
     "output_type": "stream",
     "text": [
      "100%|███████████████████████████████████████████████████████████████████████████████████████████| 1245/1245 [02:24<00:00,  8.64it/s]\n"
     ]
    },
    {
     "name": "stdout",
     "output_type": "stream",
     "text": [
      "train Loss: 2.7701 Acc: 0.4144 Time: 30m 39s\n"
     ]
    },
    {
     "name": "stderr",
     "output_type": "stream",
     "text": [
      "100%|█████████████████████████████████████████████████████████████████████████████████████████████| 156/156 [00:19<00:00,  8.07it/s]\n"
     ]
    },
    {
     "name": "stdout",
     "output_type": "stream",
     "text": [
      "val Loss: 3.1664 Acc: 0.2619 Time: 30m 59s\n",
      "learning rate: 1\n",
      "Epoch 11/54\n",
      "----------\n"
     ]
    },
    {
     "name": "stderr",
     "output_type": "stream",
     "text": [
      "100%|███████████████████████████████████████████████████████████████████████████████████████████| 1245/1245 [02:24<00:00,  8.63it/s]\n"
     ]
    },
    {
     "name": "stdout",
     "output_type": "stream",
     "text": [
      "train Loss: 2.6673 Acc: 0.4330 Time: 32m 23s\n"
     ]
    },
    {
     "name": "stderr",
     "output_type": "stream",
     "text": [
      "100%|█████████████████████████████████████████████████████████████████████████████████████████████| 156/156 [00:18<00:00,  8.30it/s]\n"
     ]
    },
    {
     "name": "stdout",
     "output_type": "stream",
     "text": [
      "val Loss: 3.0909 Acc: 0.2686 Time: 33m 42s\n",
      "learning rate: 1\n",
      "Epoch 12/54\n",
      "----------\n"
     ]
    },
    {
     "name": "stderr",
     "output_type": "stream",
     "text": [
      "100%|███████████████████████████████████████████████████████████████████████████████████████████| 1245/1245 [02:24<00:00,  8.61it/s]\n"
     ]
    },
    {
     "name": "stdout",
     "output_type": "stream",
     "text": [
      "train Loss: 2.5723 Acc: 0.4503 Time: 35m 6s\n"
     ]
    },
    {
     "name": "stderr",
     "output_type": "stream",
     "text": [
      "100%|█████████████████████████████████████████████████████████████████████████████████████████████| 156/156 [00:18<00:00,  8.28it/s]\n"
     ]
    },
    {
     "name": "stdout",
     "output_type": "stream",
     "text": [
      "val Loss: 3.0386 Acc: 0.2771 Time: 35m 25s\n",
      "learning rate: 1\n",
      "Epoch 13/54\n",
      "----------\n"
     ]
    },
    {
     "name": "stderr",
     "output_type": "stream",
     "text": [
      "100%|███████████████████████████████████████████████████████████████████████████████████████████| 1245/1245 [02:24<00:00,  8.61it/s]\n"
     ]
    },
    {
     "name": "stdout",
     "output_type": "stream",
     "text": [
      "train Loss: 2.4849 Acc: 0.4684 Time: 38m 50s\n"
     ]
    },
    {
     "name": "stderr",
     "output_type": "stream",
     "text": [
      "100%|█████████████████████████████████████████████████████████████████████████████████████████████| 156/156 [00:18<00:00,  8.27it/s]\n"
     ]
    },
    {
     "name": "stdout",
     "output_type": "stream",
     "text": [
      "val Loss: 2.9653 Acc: 0.2876 Time: 38m 9s\n",
      "learning rate: 1\n",
      "Epoch 14/54\n",
      "----------\n"
     ]
    },
    {
     "name": "stderr",
     "output_type": "stream",
     "text": [
      "100%|███████████████████████████████████████████████████████████████████████████████████████████| 1245/1245 [02:24<00:00,  8.61it/s]\n"
     ]
    },
    {
     "name": "stdout",
     "output_type": "stream",
     "text": [
      "train Loss: 2.4052 Acc: 0.4830 Time: 41m 33s\n"
     ]
    },
    {
     "name": "stderr",
     "output_type": "stream",
     "text": [
      "100%|█████████████████████████████████████████████████████████████████████████████████████████████| 156/156 [00:19<00:00,  8.06it/s]\n"
     ]
    },
    {
     "name": "stdout",
     "output_type": "stream",
     "text": [
      "val Loss: 2.9218 Acc: 0.2889 Time: 41m 53s\n",
      "learning rate: 1\n",
      "Epoch 15/54\n",
      "----------\n"
     ]
    },
    {
     "name": "stderr",
     "output_type": "stream",
     "text": [
      "100%|███████████████████████████████████████████████████████████████████████████████████████████| 1245/1245 [02:25<00:00,  8.58it/s]\n"
     ]
    },
    {
     "name": "stdout",
     "output_type": "stream",
     "text": [
      "train Loss: 2.3309 Acc: 0.4983 Time: 43m 18s\n"
     ]
    },
    {
     "name": "stderr",
     "output_type": "stream",
     "text": [
      "100%|█████████████████████████████████████████████████████████████████████████████████████████████| 156/156 [00:18<00:00,  8.25it/s]\n"
     ]
    },
    {
     "name": "stdout",
     "output_type": "stream",
     "text": [
      "val Loss: 2.8715 Acc: 0.2933 Time: 44m 37s\n",
      "learning rate: 1\n",
      "Epoch 16/54\n",
      "----------\n"
     ]
    },
    {
     "name": "stderr",
     "output_type": "stream",
     "text": [
      "100%|███████████████████████████████████████████████████████████████████████████████████████████| 1245/1245 [02:24<00:00,  8.60it/s]\n"
     ]
    },
    {
     "name": "stdout",
     "output_type": "stream",
     "text": [
      "train Loss: 2.2614 Acc: 0.5134 Time: 46m 1s\n"
     ]
    },
    {
     "name": "stderr",
     "output_type": "stream",
     "text": [
      "100%|█████████████████████████████████████████████████████████████████████████████████████████████| 156/156 [00:18<00:00,  8.30it/s]\n"
     ]
    },
    {
     "name": "stdout",
     "output_type": "stream",
     "text": [
      "val Loss: 2.8213 Acc: 0.3035 Time: 46m 20s\n",
      "learning rate: 1\n",
      "Epoch 17/54\n",
      "----------\n"
     ]
    },
    {
     "name": "stderr",
     "output_type": "stream",
     "text": [
      "100%|███████████████████████████████████████████████████████████████████████████████████████████| 1245/1245 [02:24<00:00,  8.61it/s]\n"
     ]
    },
    {
     "name": "stdout",
     "output_type": "stream",
     "text": [
      "train Loss: 2.1979 Acc: 0.5255 Time: 49m 45s\n"
     ]
    },
    {
     "name": "stderr",
     "output_type": "stream",
     "text": [
      "100%|█████████████████████████████████████████████████████████████████████████████████████████████| 156/156 [00:19<00:00,  7.99it/s]\n"
     ]
    },
    {
     "name": "stdout",
     "output_type": "stream",
     "text": [
      "val Loss: 2.7836 Acc: 0.3056 Time: 49m 4s\n",
      "learning rate: 1\n",
      "Epoch 18/54\n",
      "----------\n"
     ]
    },
    {
     "name": "stderr",
     "output_type": "stream",
     "text": [
      "100%|███████████████████████████████████████████████████████████████████████████████████████████| 1245/1245 [02:24<00:00,  8.62it/s]\n"
     ]
    },
    {
     "name": "stdout",
     "output_type": "stream",
     "text": [
      "train Loss: 2.1391 Acc: 0.5395 Time: 51m 29s\n"
     ]
    },
    {
     "name": "stderr",
     "output_type": "stream",
     "text": [
      "100%|█████████████████████████████████████████████████████████████████████████████████████████████| 156/156 [00:19<00:00,  8.19it/s]\n"
     ]
    },
    {
     "name": "stdout",
     "output_type": "stream",
     "text": [
      "val Loss: 2.7535 Acc: 0.3022 Time: 52m 48s\n",
      "learning rate: 1\n",
      "Epoch 19/54\n",
      "----------\n"
     ]
    },
    {
     "name": "stderr",
     "output_type": "stream",
     "text": [
      "100%|███████████████████████████████████████████████████████████████████████████████████████████| 1245/1245 [02:24<00:00,  8.61it/s]\n"
     ]
    },
    {
     "name": "stdout",
     "output_type": "stream",
     "text": [
      "train Loss: 2.0836 Acc: 0.5518 Time: 54m 13s\n"
     ]
    },
    {
     "name": "stderr",
     "output_type": "stream",
     "text": [
      "100%|█████████████████████████████████████████████████████████████████████████████████████████████| 156/156 [00:18<00:00,  8.25it/s]\n"
     ]
    },
    {
     "name": "stdout",
     "output_type": "stream",
     "text": [
      "val Loss: 2.7147 Acc: 0.3173 Time: 55m 31s\n",
      "learning rate: 1\n",
      "Epoch 20/54\n",
      "----------\n"
     ]
    },
    {
     "name": "stderr",
     "output_type": "stream",
     "text": [
      "100%|███████████████████████████████████████████████████████████████████████████████████████████| 1245/1245 [02:24<00:00,  8.59it/s]\n"
     ]
    },
    {
     "name": "stdout",
     "output_type": "stream",
     "text": [
      "train Loss: 2.0293 Acc: 0.5648 Time: 57m 56s\n"
     ]
    },
    {
     "name": "stderr",
     "output_type": "stream",
     "text": [
      "100%|█████████████████████████████████████████████████████████████████████████████████████████████| 156/156 [00:18<00:00,  8.29it/s]\n"
     ]
    },
    {
     "name": "stdout",
     "output_type": "stream",
     "text": [
      "val Loss: 2.6867 Acc: 0.3192 Time: 57m 15s\n",
      "learning rate: 1\n",
      "Epoch 21/54\n",
      "----------\n"
     ]
    },
    {
     "name": "stderr",
     "output_type": "stream",
     "text": [
      "100%|███████████████████████████████████████████████████████████████████████████████████████████| 1245/1245 [02:24<00:00,  8.63it/s]\n"
     ]
    },
    {
     "name": "stdout",
     "output_type": "stream",
     "text": [
      "train Loss: 1.9780 Acc: 0.5780 Time: 60m 40s\n"
     ]
    },
    {
     "name": "stderr",
     "output_type": "stream",
     "text": [
      "100%|█████████████████████████████████████████████████████████████████████████████████████████████| 156/156 [00:19<00:00,  8.08it/s]\n"
     ]
    },
    {
     "name": "stdout",
     "output_type": "stream",
     "text": [
      "val Loss: 2.6622 Acc: 0.3194 Time: 60m 59s\n",
      "learning rate: 1\n",
      "Epoch 22/54\n",
      "----------\n"
     ]
    },
    {
     "name": "stderr",
     "output_type": "stream",
     "text": [
      "100%|███████████████████████████████████████████████████████████████████████████████████████████| 1245/1245 [02:24<00:00,  8.61it/s]\n"
     ]
    },
    {
     "name": "stdout",
     "output_type": "stream",
     "text": [
      "train Loss: 1.9321 Acc: 0.5863 Time: 62m 23s\n"
     ]
    },
    {
     "name": "stderr",
     "output_type": "stream",
     "text": [
      "100%|█████████████████████████████████████████████████████████████████████████████████████████████| 156/156 [00:18<00:00,  8.27it/s]\n"
     ]
    },
    {
     "name": "stdout",
     "output_type": "stream",
     "text": [
      "val Loss: 2.6312 Acc: 0.3253 Time: 63m 42s\n",
      "learning rate: 1\n",
      "Epoch 23/54\n",
      "----------\n"
     ]
    },
    {
     "name": "stderr",
     "output_type": "stream",
     "text": [
      "100%|███████████████████████████████████████████████████████████████████████████████████████████| 1245/1245 [02:24<00:00,  8.59it/s]\n"
     ]
    },
    {
     "name": "stdout",
     "output_type": "stream",
     "text": [
      "train Loss: 1.8857 Acc: 0.5996 Time: 65m 7s\n"
     ]
    },
    {
     "name": "stderr",
     "output_type": "stream",
     "text": [
      "100%|█████████████████████████████████████████████████████████████████████████████████████████████| 156/156 [00:18<00:00,  8.27it/s]\n"
     ]
    },
    {
     "name": "stdout",
     "output_type": "stream",
     "text": [
      "val Loss: 2.6093 Acc: 0.3241 Time: 65m 26s\n",
      "learning rate: 1\n",
      "Epoch 24/54\n",
      "----------\n"
     ]
    },
    {
     "name": "stderr",
     "output_type": "stream",
     "text": [
      "100%|███████████████████████████████████████████████████████████████████████████████████████████| 1245/1245 [02:24<00:00,  8.61it/s]\n"
     ]
    },
    {
     "name": "stdout",
     "output_type": "stream",
     "text": [
      "train Loss: 1.8423 Acc: 0.6103 Time: 68m 51s\n"
     ]
    },
    {
     "name": "stderr",
     "output_type": "stream",
     "text": [
      "100%|█████████████████████████████████████████████████████████████████████████████████████████████| 156/156 [00:18<00:00,  8.26it/s]\n"
     ]
    },
    {
     "name": "stdout",
     "output_type": "stream",
     "text": [
      "val Loss: 2.5746 Acc: 0.3325 Time: 68m 10s\n",
      "learning rate: 1\n",
      "Epoch 25/54\n",
      "----------\n"
     ]
    },
    {
     "name": "stderr",
     "output_type": "stream",
     "text": [
      "100%|███████████████████████████████████████████████████████████████████████████████████████████| 1245/1245 [02:24<00:00,  8.63it/s]\n"
     ]
    },
    {
     "name": "stdout",
     "output_type": "stream",
     "text": [
      "train Loss: 1.7999 Acc: 0.6210 Time: 71m 34s\n"
     ]
    },
    {
     "name": "stderr",
     "output_type": "stream",
     "text": [
      "100%|█████████████████████████████████████████████████████████████████████████████████████████████| 156/156 [00:19<00:00,  8.08it/s]\n"
     ]
    },
    {
     "name": "stdout",
     "output_type": "stream",
     "text": [
      "val Loss: 2.5593 Acc: 0.3348 Time: 71m 53s\n",
      "learning rate: 1\n",
      "Epoch 26/54\n",
      "----------\n"
     ]
    },
    {
     "name": "stderr",
     "output_type": "stream",
     "text": [
      "100%|███████████████████████████████████████████████████████████████████████████████████████████| 1245/1245 [02:24<00:00,  8.62it/s]\n"
     ]
    },
    {
     "name": "stdout",
     "output_type": "stream",
     "text": [
      "train Loss: 1.7631 Acc: 0.6295 Time: 73m 18s\n"
     ]
    },
    {
     "name": "stderr",
     "output_type": "stream",
     "text": [
      "100%|█████████████████████████████████████████████████████████████████████████████████████████████| 156/156 [00:18<00:00,  8.25it/s]\n"
     ]
    },
    {
     "name": "stdout",
     "output_type": "stream",
     "text": [
      "val Loss: 2.5312 Acc: 0.3342 Time: 74m 37s\n",
      "learning rate: 1\n",
      "Epoch 27/54\n",
      "----------\n"
     ]
    },
    {
     "name": "stderr",
     "output_type": "stream",
     "text": [
      "100%|███████████████████████████████████████████████████████████████████████████████████████████| 1245/1245 [02:25<00:00,  8.58it/s]\n"
     ]
    },
    {
     "name": "stdout",
     "output_type": "stream",
     "text": [
      "train Loss: 1.7223 Acc: 0.6385 Time: 76m 2s\n"
     ]
    },
    {
     "name": "stderr",
     "output_type": "stream",
     "text": [
      "100%|█████████████████████████████████████████████████████████████████████████████████████████████| 156/156 [00:18<00:00,  8.23it/s]\n"
     ]
    },
    {
     "name": "stdout",
     "output_type": "stream",
     "text": [
      "val Loss: 2.5125 Acc: 0.3433 Time: 76m 21s\n",
      "learning rate: 1\n",
      "Epoch 28/54\n",
      "----------\n"
     ]
    },
    {
     "name": "stderr",
     "output_type": "stream",
     "text": [
      "100%|███████████████████████████████████████████████████████████████████████████████████████████| 1245/1245 [02:24<00:00,  8.62it/s]\n"
     ]
    },
    {
     "name": "stdout",
     "output_type": "stream",
     "text": [
      "train Loss: 1.6894 Acc: 0.6468 Time: 79m 45s\n"
     ]
    },
    {
     "name": "stderr",
     "output_type": "stream",
     "text": [
      "100%|█████████████████████████████████████████████████████████████████████████████████████████████| 156/156 [00:19<00:00,  8.03it/s]\n"
     ]
    },
    {
     "name": "stdout",
     "output_type": "stream",
     "text": [
      "val Loss: 2.4856 Acc: 0.3443 Time: 79m 5s\n",
      "learning rate: 1\n",
      "Epoch 29/54\n",
      "----------\n"
     ]
    },
    {
     "name": "stderr",
     "output_type": "stream",
     "text": [
      "100%|███████████████████████████████████████████████████████████████████████████████████████████| 1245/1245 [02:24<00:00,  8.64it/s]\n"
     ]
    },
    {
     "name": "stdout",
     "output_type": "stream",
     "text": [
      "train Loss: 1.6541 Acc: 0.6549 Time: 81m 29s\n"
     ]
    },
    {
     "name": "stderr",
     "output_type": "stream",
     "text": [
      "100%|█████████████████████████████████████████████████████████████████████████████████████████████| 156/156 [00:18<00:00,  8.25it/s]\n"
     ]
    },
    {
     "name": "stdout",
     "output_type": "stream",
     "text": [
      "val Loss: 2.4703 Acc: 0.3478 Time: 82m 48s\n",
      "learning rate: 1\n",
      "Epoch 30/54\n",
      "----------\n"
     ]
    },
    {
     "name": "stderr",
     "output_type": "stream",
     "text": [
      "100%|███████████████████████████████████████████████████████████████████████████████████████████| 1245/1245 [02:24<00:00,  8.63it/s]\n"
     ]
    },
    {
     "name": "stdout",
     "output_type": "stream",
     "text": [
      "train Loss: 1.6191 Acc: 0.6641 Time: 84m 12s\n"
     ]
    },
    {
     "name": "stderr",
     "output_type": "stream",
     "text": [
      "100%|█████████████████████████████████████████████████████████████████████████████████████████████| 156/156 [00:18<00:00,  8.29it/s]\n"
     ]
    },
    {
     "name": "stdout",
     "output_type": "stream",
     "text": [
      "val Loss: 2.4771 Acc: 0.3425 Time: 85m 31s\n",
      "learning rate: 1\n",
      "Epoch 31/54\n",
      "----------\n"
     ]
    },
    {
     "name": "stderr",
     "output_type": "stream",
     "text": [
      "100%|███████████████████████████████████████████████████████████████████████████████████████████| 1245/1245 [02:24<00:00,  8.61it/s]\n"
     ]
    },
    {
     "name": "stdout",
     "output_type": "stream",
     "text": [
      "train Loss: 1.5884 Acc: 0.6731 Time: 87m 55s\n"
     ]
    },
    {
     "name": "stderr",
     "output_type": "stream",
     "text": [
      "100%|█████████████████████████████████████████████████████████████████████████████████████████████| 156/156 [00:18<00:00,  8.25it/s]\n"
     ]
    },
    {
     "name": "stdout",
     "output_type": "stream",
     "text": [
      "val Loss: 2.4368 Acc: 0.3524 Time: 87m 14s\n",
      "learning rate: 1\n",
      "Epoch 32/54\n",
      "----------\n"
     ]
    },
    {
     "name": "stderr",
     "output_type": "stream",
     "text": [
      "100%|███████████████████████████████████████████████████████████████████████████████████████████| 1245/1245 [02:24<00:00,  8.62it/s]\n"
     ]
    },
    {
     "name": "stdout",
     "output_type": "stream",
     "text": [
      "train Loss: 1.5577 Acc: 0.6804 Time: 90m 39s\n"
     ]
    },
    {
     "name": "stderr",
     "output_type": "stream",
     "text": [
      "100%|█████████████████████████████████████████████████████████████████████████████████████████████| 156/156 [00:19<00:00,  8.04it/s]\n"
     ]
    },
    {
     "name": "stdout",
     "output_type": "stream",
     "text": [
      "val Loss: 2.4175 Acc: 0.3535 Time: 90m 58s\n",
      "learning rate: 1\n",
      "Epoch 33/54\n",
      "----------\n"
     ]
    },
    {
     "name": "stderr",
     "output_type": "stream",
     "text": [
      "100%|███████████████████████████████████████████████████████████████████████████████████████████| 1245/1245 [02:24<00:00,  8.63it/s]\n"
     ]
    },
    {
     "name": "stdout",
     "output_type": "stream",
     "text": [
      "train Loss: 1.5278 Acc: 0.6886 Time: 92m 22s\n"
     ]
    },
    {
     "name": "stderr",
     "output_type": "stream",
     "text": [
      "100%|█████████████████████████████████████████████████████████████████████████████████████████████| 156/156 [00:18<00:00,  8.28it/s]\n"
     ]
    },
    {
     "name": "stdout",
     "output_type": "stream",
     "text": [
      "val Loss: 2.4097 Acc: 0.3578 Time: 93m 41s\n",
      "learning rate: 1\n",
      "Epoch 34/54\n",
      "----------\n"
     ]
    },
    {
     "name": "stderr",
     "output_type": "stream",
     "text": [
      "100%|███████████████████████████████████████████████████████████████████████████████████████████| 1245/1245 [02:24<00:00,  8.59it/s]\n"
     ]
    },
    {
     "name": "stdout",
     "output_type": "stream",
     "text": [
      "train Loss: 1.4989 Acc: 0.6938 Time: 95m 6s\n"
     ]
    },
    {
     "name": "stderr",
     "output_type": "stream",
     "text": [
      "100%|█████████████████████████████████████████████████████████████████████████████████████████████| 156/156 [00:18<00:00,  8.26it/s]\n"
     ]
    },
    {
     "name": "stdout",
     "output_type": "stream",
     "text": [
      "val Loss: 2.3989 Acc: 0.3587 Time: 95m 25s\n",
      "learning rate: 1\n",
      "Epoch 35/54\n",
      "----------\n"
     ]
    },
    {
     "name": "stderr",
     "output_type": "stream",
     "text": [
      "100%|███████████████████████████████████████████████████████████████████████████████████████████| 1245/1245 [02:24<00:00,  8.62it/s]\n"
     ]
    },
    {
     "name": "stdout",
     "output_type": "stream",
     "text": [
      "train Loss: 1.4724 Acc: 0.7016 Time: 98m 49s\n"
     ]
    },
    {
     "name": "stderr",
     "output_type": "stream",
     "text": [
      "100%|█████████████████████████████████████████████████████████████████████████████████████████████| 156/156 [00:18<00:00,  8.27it/s]\n"
     ]
    },
    {
     "name": "stdout",
     "output_type": "stream",
     "text": [
      "val Loss: 2.3814 Acc: 0.3506 Time: 98m 8s\n",
      "learning rate: 1\n",
      "Epoch 36/54\n",
      "----------\n"
     ]
    },
    {
     "name": "stderr",
     "output_type": "stream",
     "text": [
      "100%|███████████████████████████████████████████████████████████████████████████████████████████| 1245/1245 [02:24<00:00,  8.63it/s]\n"
     ]
    },
    {
     "name": "stdout",
     "output_type": "stream",
     "text": [
      "train Loss: 1.4461 Acc: 0.7087 Time: 101m 32s\n"
     ]
    },
    {
     "name": "stderr",
     "output_type": "stream",
     "text": [
      "100%|█████████████████████████████████████████████████████████████████████████████████████████████| 156/156 [00:19<00:00,  8.10it/s]\n"
     ]
    },
    {
     "name": "stdout",
     "output_type": "stream",
     "text": [
      "val Loss: 2.3724 Acc: 0.3543 Time: 101m 52s\n",
      "learning rate: 1\n",
      "Epoch 37/54\n",
      "----------\n"
     ]
    },
    {
     "name": "stderr",
     "output_type": "stream",
     "text": [
      "100%|███████████████████████████████████████████████████████████████████████████████████████████| 1245/1245 [02:24<00:00,  8.62it/s]\n"
     ]
    },
    {
     "name": "stdout",
     "output_type": "stream",
     "text": [
      "train Loss: 1.4168 Acc: 0.7161 Time: 103m 16s\n"
     ]
    },
    {
     "name": "stderr",
     "output_type": "stream",
     "text": [
      "100%|█████████████████████████████████████████████████████████████████████████████████████████████| 156/156 [00:18<00:00,  8.28it/s]\n"
     ]
    },
    {
     "name": "stdout",
     "output_type": "stream",
     "text": [
      "val Loss: 2.3509 Acc: 0.3591 Time: 104m 35s\n",
      "learning rate: 1\n",
      "Epoch 38/54\n",
      "----------\n"
     ]
    },
    {
     "name": "stderr",
     "output_type": "stream",
     "text": [
      "100%|███████████████████████████████████████████████████████████████████████████████████████████| 1245/1245 [02:24<00:00,  8.59it/s]\n"
     ]
    },
    {
     "name": "stdout",
     "output_type": "stream",
     "text": [
      "train Loss: 1.3941 Acc: 0.7223 Time: 106m 60s\n"
     ]
    },
    {
     "name": "stderr",
     "output_type": "stream",
     "text": [
      "100%|█████████████████████████████████████████████████████████████████████████████████████████████| 156/156 [00:18<00:00,  8.25it/s]\n"
     ]
    },
    {
     "name": "stdout",
     "output_type": "stream",
     "text": [
      "val Loss: 2.3405 Acc: 0.3615 Time: 106m 19s\n",
      "learning rate: 1\n",
      "Epoch 39/54\n",
      "----------\n"
     ]
    },
    {
     "name": "stderr",
     "output_type": "stream",
     "text": [
      "100%|███████████████████████████████████████████████████████████████████████████████████████████| 1245/1245 [02:24<00:00,  8.60it/s]\n"
     ]
    },
    {
     "name": "stdout",
     "output_type": "stream",
     "text": [
      "train Loss: 1.3688 Acc: 0.7282 Time: 109m 44s\n"
     ]
    },
    {
     "name": "stderr",
     "output_type": "stream",
     "text": [
      "100%|█████████████████████████████████████████████████████████████████████████████████████████████| 156/156 [00:19<00:00,  8.05it/s]\n"
     ]
    },
    {
     "name": "stdout",
     "output_type": "stream",
     "text": [
      "val Loss: 2.3274 Acc: 0.3664 Time: 109m 3s\n",
      "learning rate: 1\n",
      "Epoch 40/54\n",
      "----------\n"
     ]
    },
    {
     "name": "stderr",
     "output_type": "stream",
     "text": [
      "100%|███████████████████████████████████████████████████████████████████████████████████████████| 1245/1245 [02:24<00:00,  8.59it/s]\n"
     ]
    },
    {
     "name": "stdout",
     "output_type": "stream",
     "text": [
      "train Loss: 1.3447 Acc: 0.7368 Time: 111m 28s\n"
     ]
    },
    {
     "name": "stderr",
     "output_type": "stream",
     "text": [
      "100%|█████████████████████████████████████████████████████████████████████████████████████████████| 156/156 [00:19<00:00,  8.19it/s]\n"
     ]
    },
    {
     "name": "stdout",
     "output_type": "stream",
     "text": [
      "val Loss: 2.3177 Acc: 0.3598 Time: 112m 47s\n",
      "learning rate: 1\n",
      "Epoch 41/54\n",
      "----------\n"
     ]
    },
    {
     "name": "stderr",
     "output_type": "stream",
     "text": [
      "100%|███████████████████████████████████████████████████████████████████████████████████████████| 1245/1245 [02:24<00:00,  8.62it/s]\n"
     ]
    },
    {
     "name": "stdout",
     "output_type": "stream",
     "text": [
      "train Loss: 1.3229 Acc: 0.7402 Time: 114m 12s\n"
     ]
    },
    {
     "name": "stderr",
     "output_type": "stream",
     "text": [
      "100%|█████████████████████████████████████████████████████████████████████████████████████████████| 156/156 [00:18<00:00,  8.22it/s]\n"
     ]
    },
    {
     "name": "stdout",
     "output_type": "stream",
     "text": [
      "val Loss: 2.3102 Acc: 0.3677 Time: 115m 31s\n",
      "learning rate: 1\n",
      "Epoch 42/54\n",
      "----------\n"
     ]
    },
    {
     "name": "stderr",
     "output_type": "stream",
     "text": [
      "100%|███████████████████████████████████████████████████████████████████████████████████████████| 1245/1245 [02:24<00:00,  8.60it/s]\n"
     ]
    },
    {
     "name": "stdout",
     "output_type": "stream",
     "text": [
      "train Loss: 1.3025 Acc: 0.7447 Time: 117m 55s\n"
     ]
    },
    {
     "name": "stderr",
     "output_type": "stream",
     "text": [
      "100%|█████████████████████████████████████████████████████████████████████████████████████████████| 156/156 [00:18<00:00,  8.27it/s]\n"
     ]
    },
    {
     "name": "stdout",
     "output_type": "stream",
     "text": [
      "val Loss: 2.2978 Acc: 0.3717 Time: 117m 14s\n",
      "learning rate: 1\n",
      "Epoch 43/54\n",
      "----------\n"
     ]
    },
    {
     "name": "stderr",
     "output_type": "stream",
     "text": [
      "100%|███████████████████████████████████████████████████████████████████████████████████████████| 1245/1245 [02:24<00:00,  8.61it/s]\n"
     ]
    },
    {
     "name": "stdout",
     "output_type": "stream",
     "text": [
      "train Loss: 1.2805 Acc: 0.7522 Time: 120m 39s\n"
     ]
    },
    {
     "name": "stderr",
     "output_type": "stream",
     "text": [
      "100%|█████████████████████████████████████████████████████████████████████████████████████████████| 156/156 [00:19<00:00,  8.08it/s]\n"
     ]
    },
    {
     "name": "stdout",
     "output_type": "stream",
     "text": [
      "val Loss: 2.2899 Acc: 0.3681 Time: 120m 58s\n",
      "learning rate: 1\n",
      "Epoch 44/54\n",
      "----------\n"
     ]
    },
    {
     "name": "stderr",
     "output_type": "stream",
     "text": [
      "100%|███████████████████████████████████████████████████████████████████████████████████████████| 1245/1245 [02:24<00:00,  8.62it/s]\n"
     ]
    },
    {
     "name": "stdout",
     "output_type": "stream",
     "text": [
      "train Loss: 1.2594 Acc: 0.7592 Time: 122m 23s\n"
     ]
    },
    {
     "name": "stderr",
     "output_type": "stream",
     "text": [
      "100%|█████████████████████████████████████████████████████████████████████████████████████████████| 156/156 [00:18<00:00,  8.25it/s]\n"
     ]
    },
    {
     "name": "stdout",
     "output_type": "stream",
     "text": [
      "val Loss: 2.2843 Acc: 0.3720 Time: 123m 42s\n",
      "learning rate: 1\n",
      "Epoch 45/54\n",
      "----------\n"
     ]
    },
    {
     "name": "stderr",
     "output_type": "stream",
     "text": [
      "100%|███████████████████████████████████████████████████████████████████████████████████████████| 1245/1245 [02:24<00:00,  8.59it/s]\n"
     ]
    },
    {
     "name": "stdout",
     "output_type": "stream",
     "text": [
      "train Loss: 1.2398 Acc: 0.7642 Time: 125m 6s\n"
     ]
    },
    {
     "name": "stderr",
     "output_type": "stream",
     "text": [
      "100%|█████████████████████████████████████████████████████████████████████████████████████████████| 156/156 [00:18<00:00,  8.24it/s]\n"
     ]
    },
    {
     "name": "stdout",
     "output_type": "stream",
     "text": [
      "val Loss: 2.2664 Acc: 0.3732 Time: 125m 25s\n",
      "learning rate: 1\n",
      "Epoch 46/54\n",
      "----------\n"
     ]
    },
    {
     "name": "stderr",
     "output_type": "stream",
     "text": [
      "100%|███████████████████████████████████████████████████████████████████████████████████████████| 1245/1245 [02:24<00:00,  8.60it/s]\n"
     ]
    },
    {
     "name": "stdout",
     "output_type": "stream",
     "text": [
      "train Loss: 1.2204 Acc: 0.7688 Time: 128m 50s\n"
     ]
    },
    {
     "name": "stderr",
     "output_type": "stream",
     "text": [
      "100%|█████████████████████████████████████████████████████████████████████████████████████████████| 156/156 [00:18<00:00,  8.28it/s]\n"
     ]
    },
    {
     "name": "stdout",
     "output_type": "stream",
     "text": [
      "val Loss: 2.2686 Acc: 0.3699 Time: 128m 9s\n",
      "learning rate: 1\n",
      "Epoch 47/54\n",
      "----------\n"
     ]
    },
    {
     "name": "stderr",
     "output_type": "stream",
     "text": [
      "100%|███████████████████████████████████████████████████████████████████████████████████████████| 1245/1245 [02:24<00:00,  8.60it/s]\n"
     ]
    },
    {
     "name": "stdout",
     "output_type": "stream",
     "text": [
      "train Loss: 1.2014 Acc: 0.7742 Time: 131m 34s\n"
     ]
    },
    {
     "name": "stderr",
     "output_type": "stream",
     "text": [
      "100%|█████████████████████████████████████████████████████████████████████████████████████████████| 156/156 [00:19<00:00,  8.05it/s]\n"
     ]
    },
    {
     "name": "stdout",
     "output_type": "stream",
     "text": [
      "val Loss: 2.2550 Acc: 0.3733 Time: 131m 53s\n",
      "learning rate: 1\n",
      "Epoch 48/54\n",
      "----------\n"
     ]
    },
    {
     "name": "stderr",
     "output_type": "stream",
     "text": [
      "100%|███████████████████████████████████████████████████████████████████████████████████████████| 1245/1245 [02:24<00:00,  8.61it/s]\n"
     ]
    },
    {
     "name": "stdout",
     "output_type": "stream",
     "text": [
      "train Loss: 1.1799 Acc: 0.7796 Time: 133m 18s\n"
     ]
    },
    {
     "name": "stderr",
     "output_type": "stream",
     "text": [
      "100%|█████████████████████████████████████████████████████████████████████████████████████████████| 156/156 [00:18<00:00,  8.23it/s]\n"
     ]
    },
    {
     "name": "stdout",
     "output_type": "stream",
     "text": [
      "val Loss: 2.2393 Acc: 0.3764 Time: 134m 37s\n",
      "learning rate: 1\n",
      "Epoch 49/54\n",
      "----------\n"
     ]
    },
    {
     "name": "stderr",
     "output_type": "stream",
     "text": [
      "100%|███████████████████████████████████████████████████████████████████████████████████████████| 1245/1245 [02:25<00:00,  8.58it/s]\n"
     ]
    },
    {
     "name": "stdout",
     "output_type": "stream",
     "text": [
      "train Loss: 1.1635 Acc: 0.7833 Time: 136m 2s\n"
     ]
    },
    {
     "name": "stderr",
     "output_type": "stream",
     "text": [
      "100%|█████████████████████████████████████████████████████████████████████████████████████████████| 156/156 [00:18<00:00,  8.27it/s]\n"
     ]
    },
    {
     "name": "stdout",
     "output_type": "stream",
     "text": [
      "val Loss: 2.2322 Acc: 0.3768 Time: 136m 21s\n",
      "learning rate: 1\n",
      "Epoch 50/54\n",
      "----------\n"
     ]
    },
    {
     "name": "stderr",
     "output_type": "stream",
     "text": [
      "100%|███████████████████████████████████████████████████████████████████████████████████████████| 1245/1245 [02:24<00:00,  8.60it/s]\n"
     ]
    },
    {
     "name": "stdout",
     "output_type": "stream",
     "text": [
      "train Loss: 1.1463 Acc: 0.7873 Time: 139m 46s\n"
     ]
    },
    {
     "name": "stderr",
     "output_type": "stream",
     "text": [
      "100%|█████████████████████████████████████████████████████████████████████████████████████████████| 156/156 [00:19<00:00,  7.97it/s]\n"
     ]
    },
    {
     "name": "stdout",
     "output_type": "stream",
     "text": [
      "val Loss: 2.2262 Acc: 0.3768 Time: 139m 5s\n",
      "learning rate: 1\n",
      "Epoch 51/54\n",
      "----------\n"
     ]
    },
    {
     "name": "stderr",
     "output_type": "stream",
     "text": [
      "100%|███████████████████████████████████████████████████████████████████████████████████████████| 1245/1245 [02:25<00:00,  8.58it/s]\n"
     ]
    },
    {
     "name": "stdout",
     "output_type": "stream",
     "text": [
      "train Loss: 1.1299 Acc: 0.7932 Time: 142m 30s\n"
     ]
    },
    {
     "name": "stderr",
     "output_type": "stream",
     "text": [
      "100%|█████████████████████████████████████████████████████████████████████████████████████████████| 156/156 [00:19<00:00,  8.17it/s]\n"
     ]
    },
    {
     "name": "stdout",
     "output_type": "stream",
     "text": [
      "val Loss: 2.2252 Acc: 0.3843 Time: 142m 49s\n",
      "learning rate: 1\n",
      "Epoch 52/54\n",
      "----------\n"
     ]
    },
    {
     "name": "stderr",
     "output_type": "stream",
     "text": [
      "100%|███████████████████████████████████████████████████████████████████████████████████████████| 1245/1245 [02:25<00:00,  8.56it/s]\n"
     ]
    },
    {
     "name": "stdout",
     "output_type": "stream",
     "text": [
      "train Loss: 1.1127 Acc: 0.7981 Time: 144m 15s\n"
     ]
    },
    {
     "name": "stderr",
     "output_type": "stream",
     "text": [
      "100%|█████████████████████████████████████████████████████████████████████████████████████████████| 156/156 [00:19<00:00,  8.19it/s]\n"
     ]
    },
    {
     "name": "stdout",
     "output_type": "stream",
     "text": [
      "val Loss: 2.2127 Acc: 0.3815 Time: 145m 34s\n",
      "learning rate: 1\n",
      "Epoch 53/54\n",
      "----------\n"
     ]
    },
    {
     "name": "stderr",
     "output_type": "stream",
     "text": [
      "100%|███████████████████████████████████████████████████████████████████████████████████████████| 1245/1245 [02:25<00:00,  8.53it/s]\n"
     ]
    },
    {
     "name": "stdout",
     "output_type": "stream",
     "text": [
      "train Loss: 1.0967 Acc: 0.8016 Time: 147m 60s\n"
     ]
    },
    {
     "name": "stderr",
     "output_type": "stream",
     "text": [
      "100%|█████████████████████████████████████████████████████████████████████████████████████████████| 156/156 [00:19<00:00,  8.15it/s]\n"
     ]
    },
    {
     "name": "stdout",
     "output_type": "stream",
     "text": [
      "val Loss: 2.2091 Acc: 0.3834 Time: 147m 19s\n",
      "learning rate: 1\n",
      "Epoch 54/54\n",
      "----------\n"
     ]
    },
    {
     "name": "stderr",
     "output_type": "stream",
     "text": [
      "100%|███████████████████████████████████████████████████████████████████████████████████████████| 1245/1245 [02:25<00:00,  8.57it/s]\n"
     ]
    },
    {
     "name": "stdout",
     "output_type": "stream",
     "text": [
      "train Loss: 1.0798 Acc: 0.8069 Time: 150m 44s\n"
     ]
    },
    {
     "name": "stderr",
     "output_type": "stream",
     "text": [
      "100%|█████████████████████████████████████████████████████████████████████████████████████████████| 156/156 [00:19<00:00,  7.95it/s]\n"
     ]
    },
    {
     "name": "stdout",
     "output_type": "stream",
     "text": [
      "val Loss: 2.2002 Acc: 0.3830 Time: 150m 4s\n",
      "learning rate: 1\n",
      "Training complete in 150m 4s\n",
      "Best val Acc: 0.384291\n"
     ]
    }
   ],
   "source": [
    "train_model(model, model_info, dataset_sizes, dataloader_train, dataloader_val, criterion, optimizer, exp_lr_scheduler, target_labels, num_epochs)"
   ]
  },
  {
   "cell_type": "markdown",
   "id": "9f59e5c3-76ca-4a6e-ae0f-7f4851ac6e49",
   "metadata": {},
   "source": [
    "## Evaluate on test set"
   ]
  },
  {
   "cell_type": "code",
   "execution_count": 9,
   "id": "b2988f05-cdb9-42e6-a70e-2a60245121ad",
   "metadata": {},
   "outputs": [
    {
     "name": "stderr",
     "output_type": "stream",
     "text": [
      "100%|██████████████████████████████████████████████████████████████████████████████████████████| 9957/9957 [01:01<00:00, 162.31it/s]"
     ]
    },
    {
     "name": "stdout",
     "output_type": "stream",
     "text": [
      "Test Acc: 0.3840\n",
      "Average time per image: 0.0062 seconds\n"
     ]
    },
    {
     "name": "stderr",
     "output_type": "stream",
     "text": [
      "\n"
     ]
    }
   ],
   "source": [
    "# Load saved model\n",
    "model_name = 'bilinear_vgg16_fc_400classes_55epochs_1lr_makemodelyear_acc_0.384.pth'\n",
    "backbone_model = 'bilinear_vgg16_fc'\n",
    "target_labels = 'makemodelyear'\n",
    "model = get_model(num_labels, backbone_model).to(device)\n",
    "model.load_state_dict(torch.load(os.path.join(root_path, 'models', model_name)))\n",
    "\n",
    "cm, cr = evaluate_model(model, dataset_sizes, dataloader_test, target_labels, target_make_model_year_labels)\n",
    "\n",
    "# plot the CM\n",
    "cm_pd = cm.astype('float') / cm.sum(axis=1)[:, np.newaxis]\n",
    "cm_pd = pd.DataFrame(cm_pd, index=target_make_model_year_labels, columns=target_make_model_year_labels)\n",
    "cr_pd = pd.DataFrame(cr).transpose()"
   ]
  },
  {
   "cell_type": "code",
   "execution_count": null,
   "id": "2284ba04-bd05-4116-b36c-28aa03a64156",
   "metadata": {},
   "outputs": [],
   "source": [
    "model"
   ]
  },
  {
   "cell_type": "markdown",
   "id": "deddef57-75e2-4abe-9ecc-2bf416177a4f",
   "metadata": {},
   "source": [
    "- Confusion matrix"
   ]
  },
  {
   "cell_type": "code",
   "execution_count": null,
   "id": "cbb12bf4-2520-494d-9219-e3b63e9222e2",
   "metadata": {
    "scrolled": true
   },
   "outputs": [],
   "source": [
    "cm_pd"
   ]
  },
  {
   "cell_type": "markdown",
   "id": "cabb01c9-0eed-447e-9bcc-e1a7b5f19941",
   "metadata": {},
   "source": [
    "- Classification Report"
   ]
  },
  {
   "cell_type": "code",
   "execution_count": null,
   "id": "a0946370-5849-4b25-a207-a8670171da33",
   "metadata": {
    "scrolled": false
   },
   "outputs": [],
   "source": [
    "cr_pd"
   ]
  },
  {
   "cell_type": "markdown",
   "id": "b1845560-7130-4d60-ad6e-1a298c863079",
   "metadata": {
    "tags": []
   },
   "source": [
    "- Save/Load the metrics"
   ]
  },
  {
   "cell_type": "code",
   "execution_count": null,
   "id": "c770ca29-128c-4130-83f2-546b2e0981ef",
   "metadata": {},
   "outputs": [],
   "source": [
    "cm_pd.to_csv(os.path.join(root_path, 'results', 'bilinear', f\"confusion_matrix_{model_name}.csv\"), index=False)\n",
    "cr_pd.to_csv(os.path.join(root_path, 'results', 'bilinear', f\"classification_report_{model_name}.csv\"), index=False)\n",
    "#cm_pd_df = pd.read_csv(os.path.join(root_path, 'results', 'baseline_methods', f\"confusion_matrix_{model_name}.csv\"))\n",
    "#cr_pd_df = pd.read_csv(os.path.join(root_path, 'results', 'baseline_methods', f\"classification_report_{model_name}.csv\"))"
   ]
  },
  {
   "cell_type": "markdown",
   "id": "db6fc8b6-0d4d-4ded-b33f-f01ac860d61a",
   "metadata": {},
   "source": [
    "## Visually Inspect performance\n",
    "- Load a target model to inpect"
   ]
  },
  {
   "cell_type": "code",
   "execution_count": null,
   "id": "9fb5d5a8-481d-458f-b6b2-ccfc7e5a42c2",
   "metadata": {},
   "outputs": [],
   "source": [
    "# Load saved model\n",
    "model = get_model(num_labels, backbone_model).to(device)\n",
    "model.load_state_dict(torch.load(os.path.join(root_path, 'models', model_name)))"
   ]
  },
  {
   "cell_type": "markdown",
   "id": "78ac6d27-664e-4ba2-800c-1fde9a169fba",
   "metadata": {},
   "source": [
    "- Visualize for a few examples from the test set"
   ]
  },
  {
   "cell_type": "code",
   "execution_count": null,
   "id": "0b9a7a31-a4a2-4315-a4c4-a6f3004acd89",
   "metadata": {},
   "outputs": [],
   "source": [
    "visualize_model(model, dataset, dataloader_test, target_labels, target_make_model_year_labels, num_images=10)"
   ]
  },
  {
   "cell_type": "code",
   "execution_count": null,
   "id": "190e0034-c455-470a-9fa4-e550d5e6ef72",
   "metadata": {},
   "outputs": [],
   "source": []
  },
  {
   "cell_type": "code",
   "execution_count": null,
   "id": "a8c957f9",
   "metadata": {},
   "outputs": [],
   "source": []
  },
  {
   "cell_type": "markdown",
   "id": "e744a638",
   "metadata": {},
   "source": []
  },
  {
   "cell_type": "code",
   "execution_count": null,
   "id": "1f342dd5",
   "metadata": {},
   "outputs": [],
   "source": []
  },
  {
   "cell_type": "code",
   "execution_count": null,
   "id": "fd58debd",
   "metadata": {},
   "outputs": [],
   "source": []
  }
 ],
 "metadata": {
  "kernelspec": {
   "display_name": "Python 3",
   "language": "python",
   "name": "python3"
  },
  "language_info": {
   "codemirror_mode": {
    "name": "ipython",
    "version": 3
   },
   "file_extension": ".py",
   "mimetype": "text/x-python",
   "name": "python",
   "nbconvert_exporter": "python",
   "pygments_lexer": "ipython3",
   "version": "3.7.12"
  }
 },
 "nbformat": 4,
 "nbformat_minor": 5
}
